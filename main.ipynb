{
 "cells": [
  {
   "cell_type": "markdown",
   "id": "96b63c3b",
   "metadata": {
    "papermill": {
     "duration": 0.006096,
     "end_time": "2025-08-11T11:01:26.781040",
     "exception": false,
     "start_time": "2025-08-11T11:01:26.774944",
     "status": "completed"
    },
    "tags": []
   },
   "source": [
    "# Loading Data and Glance"
   ]
  },
  {
   "cell_type": "code",
   "execution_count": 1,
   "id": "a5051f2e",
   "metadata": {
    "execution": {
     "iopub.execute_input": "2025-08-11T11:01:26.793207Z",
     "iopub.status.busy": "2025-08-11T11:01:26.792876Z",
     "iopub.status.idle": "2025-08-11T11:01:33.806275Z",
     "shell.execute_reply": "2025-08-11T11:01:33.805338Z"
    },
    "papermill": {
     "duration": 7.021669,
     "end_time": "2025-08-11T11:01:33.808144",
     "exception": false,
     "start_time": "2025-08-11T11:01:26.786475",
     "status": "completed"
    },
    "tags": []
   },
   "outputs": [],
   "source": [
    "import pandas as pd\n",
    "import matplotlib.pyplot as plt\n",
    "import seaborn as sns\n",
    "import warnings\n",
    "warnings.filterwarnings('always')\n",
    "\n",
    "fake = pd.read_csv(\"/kaggle/input/fake-and-real-news-dataset/Fake.csv\")\n",
    "true = pd.read_csv(\"/kaggle/input/fake-and-real-news-dataset/True.csv\")"
   ]
  },
  {
   "cell_type": "code",
   "execution_count": 2,
   "id": "5e20ea67",
   "metadata": {
    "execution": {
     "iopub.execute_input": "2025-08-11T11:01:33.822826Z",
     "iopub.status.busy": "2025-08-11T11:01:33.821965Z",
     "iopub.status.idle": "2025-08-11T11:01:33.827414Z",
     "shell.execute_reply": "2025-08-11T11:01:33.826498Z"
    },
    "papermill": {
     "duration": 0.014369,
     "end_time": "2025-08-11T11:01:33.828734",
     "exception": false,
     "start_time": "2025-08-11T11:01:33.814365",
     "status": "completed"
    },
    "tags": []
   },
   "outputs": [
    {
     "name": "stdout",
     "output_type": "stream",
     "text": [
      "Fake News Dataset Shape: (23481, 4)\n",
      "True News Dataset Shape: (21417, 4)\n"
     ]
    }
   ],
   "source": [
    "print(\"Fake News Dataset Shape:\", fake.shape)\n",
    "print(\"True News Dataset Shape:\", true.shape)\n"
   ]
  },
  {
   "cell_type": "code",
   "execution_count": 3,
   "id": "d5f750b9",
   "metadata": {
    "execution": {
     "iopub.execute_input": "2025-08-11T11:01:33.841310Z",
     "iopub.status.busy": "2025-08-11T11:01:33.840539Z",
     "iopub.status.idle": "2025-08-11T11:01:33.864225Z",
     "shell.execute_reply": "2025-08-11T11:01:33.863225Z"
    },
    "papermill": {
     "duration": 0.031698,
     "end_time": "2025-08-11T11:01:33.865983",
     "exception": false,
     "start_time": "2025-08-11T11:01:33.834285",
     "status": "completed"
    },
    "tags": []
   },
   "outputs": [
    {
     "data": {
      "text/html": [
       "<div>\n",
       "<style scoped>\n",
       "    .dataframe tbody tr th:only-of-type {\n",
       "        vertical-align: middle;\n",
       "    }\n",
       "\n",
       "    .dataframe tbody tr th {\n",
       "        vertical-align: top;\n",
       "    }\n",
       "\n",
       "    .dataframe thead th {\n",
       "        text-align: right;\n",
       "    }\n",
       "</style>\n",
       "<table border=\"1\" class=\"dataframe\">\n",
       "  <thead>\n",
       "    <tr style=\"text-align: right;\">\n",
       "      <th></th>\n",
       "      <th>title</th>\n",
       "      <th>text</th>\n",
       "      <th>subject</th>\n",
       "      <th>date</th>\n",
       "    </tr>\n",
       "  </thead>\n",
       "  <tbody>\n",
       "    <tr>\n",
       "      <th>0</th>\n",
       "      <td>Donald Trump Sends Out Embarrassing New Year’...</td>\n",
       "      <td>Donald Trump just couldn t wish all Americans ...</td>\n",
       "      <td>News</td>\n",
       "      <td>December 31, 2017</td>\n",
       "    </tr>\n",
       "    <tr>\n",
       "      <th>1</th>\n",
       "      <td>Drunk Bragging Trump Staffer Started Russian ...</td>\n",
       "      <td>House Intelligence Committee Chairman Devin Nu...</td>\n",
       "      <td>News</td>\n",
       "      <td>December 31, 2017</td>\n",
       "    </tr>\n",
       "    <tr>\n",
       "      <th>2</th>\n",
       "      <td>Sheriff David Clarke Becomes An Internet Joke...</td>\n",
       "      <td>On Friday, it was revealed that former Milwauk...</td>\n",
       "      <td>News</td>\n",
       "      <td>December 30, 2017</td>\n",
       "    </tr>\n",
       "    <tr>\n",
       "      <th>3</th>\n",
       "      <td>Trump Is So Obsessed He Even Has Obama’s Name...</td>\n",
       "      <td>On Christmas day, Donald Trump announced that ...</td>\n",
       "      <td>News</td>\n",
       "      <td>December 29, 2017</td>\n",
       "    </tr>\n",
       "    <tr>\n",
       "      <th>4</th>\n",
       "      <td>Pope Francis Just Called Out Donald Trump Dur...</td>\n",
       "      <td>Pope Francis used his annual Christmas Day mes...</td>\n",
       "      <td>News</td>\n",
       "      <td>December 25, 2017</td>\n",
       "    </tr>\n",
       "  </tbody>\n",
       "</table>\n",
       "</div>"
      ],
      "text/plain": [
       "                                               title  \\\n",
       "0   Donald Trump Sends Out Embarrassing New Year’...   \n",
       "1   Drunk Bragging Trump Staffer Started Russian ...   \n",
       "2   Sheriff David Clarke Becomes An Internet Joke...   \n",
       "3   Trump Is So Obsessed He Even Has Obama’s Name...   \n",
       "4   Pope Francis Just Called Out Donald Trump Dur...   \n",
       "\n",
       "                                                text subject  \\\n",
       "0  Donald Trump just couldn t wish all Americans ...    News   \n",
       "1  House Intelligence Committee Chairman Devin Nu...    News   \n",
       "2  On Friday, it was revealed that former Milwauk...    News   \n",
       "3  On Christmas day, Donald Trump announced that ...    News   \n",
       "4  Pope Francis used his annual Christmas Day mes...    News   \n",
       "\n",
       "                date  \n",
       "0  December 31, 2017  \n",
       "1  December 31, 2017  \n",
       "2  December 30, 2017  \n",
       "3  December 29, 2017  \n",
       "4  December 25, 2017  "
      ]
     },
     "execution_count": 3,
     "metadata": {},
     "output_type": "execute_result"
    }
   ],
   "source": [
    "fake.head()"
   ]
  },
  {
   "cell_type": "code",
   "execution_count": 4,
   "id": "6b69ec0b",
   "metadata": {
    "execution": {
     "iopub.execute_input": "2025-08-11T11:01:33.881169Z",
     "iopub.status.busy": "2025-08-11T11:01:33.880532Z",
     "iopub.status.idle": "2025-08-11T11:01:33.891445Z",
     "shell.execute_reply": "2025-08-11T11:01:33.890179Z"
    },
    "papermill": {
     "duration": 0.019475,
     "end_time": "2025-08-11T11:01:33.893169",
     "exception": false,
     "start_time": "2025-08-11T11:01:33.873694",
     "status": "completed"
    },
    "tags": []
   },
   "outputs": [
    {
     "data": {
      "text/html": [
       "<div>\n",
       "<style scoped>\n",
       "    .dataframe tbody tr th:only-of-type {\n",
       "        vertical-align: middle;\n",
       "    }\n",
       "\n",
       "    .dataframe tbody tr th {\n",
       "        vertical-align: top;\n",
       "    }\n",
       "\n",
       "    .dataframe thead th {\n",
       "        text-align: right;\n",
       "    }\n",
       "</style>\n",
       "<table border=\"1\" class=\"dataframe\">\n",
       "  <thead>\n",
       "    <tr style=\"text-align: right;\">\n",
       "      <th></th>\n",
       "      <th>title</th>\n",
       "      <th>text</th>\n",
       "      <th>subject</th>\n",
       "      <th>date</th>\n",
       "    </tr>\n",
       "  </thead>\n",
       "  <tbody>\n",
       "    <tr>\n",
       "      <th>0</th>\n",
       "      <td>As U.S. budget fight looms, Republicans flip t...</td>\n",
       "      <td>WASHINGTON (Reuters) - The head of a conservat...</td>\n",
       "      <td>politicsNews</td>\n",
       "      <td>December 31, 2017</td>\n",
       "    </tr>\n",
       "    <tr>\n",
       "      <th>1</th>\n",
       "      <td>U.S. military to accept transgender recruits o...</td>\n",
       "      <td>WASHINGTON (Reuters) - Transgender people will...</td>\n",
       "      <td>politicsNews</td>\n",
       "      <td>December 29, 2017</td>\n",
       "    </tr>\n",
       "    <tr>\n",
       "      <th>2</th>\n",
       "      <td>Senior U.S. Republican senator: 'Let Mr. Muell...</td>\n",
       "      <td>WASHINGTON (Reuters) - The special counsel inv...</td>\n",
       "      <td>politicsNews</td>\n",
       "      <td>December 31, 2017</td>\n",
       "    </tr>\n",
       "    <tr>\n",
       "      <th>3</th>\n",
       "      <td>FBI Russia probe helped by Australian diplomat...</td>\n",
       "      <td>WASHINGTON (Reuters) - Trump campaign adviser ...</td>\n",
       "      <td>politicsNews</td>\n",
       "      <td>December 30, 2017</td>\n",
       "    </tr>\n",
       "    <tr>\n",
       "      <th>4</th>\n",
       "      <td>Trump wants Postal Service to charge 'much mor...</td>\n",
       "      <td>SEATTLE/WASHINGTON (Reuters) - President Donal...</td>\n",
       "      <td>politicsNews</td>\n",
       "      <td>December 29, 2017</td>\n",
       "    </tr>\n",
       "  </tbody>\n",
       "</table>\n",
       "</div>"
      ],
      "text/plain": [
       "                                               title  \\\n",
       "0  As U.S. budget fight looms, Republicans flip t...   \n",
       "1  U.S. military to accept transgender recruits o...   \n",
       "2  Senior U.S. Republican senator: 'Let Mr. Muell...   \n",
       "3  FBI Russia probe helped by Australian diplomat...   \n",
       "4  Trump wants Postal Service to charge 'much mor...   \n",
       "\n",
       "                                                text       subject  \\\n",
       "0  WASHINGTON (Reuters) - The head of a conservat...  politicsNews   \n",
       "1  WASHINGTON (Reuters) - Transgender people will...  politicsNews   \n",
       "2  WASHINGTON (Reuters) - The special counsel inv...  politicsNews   \n",
       "3  WASHINGTON (Reuters) - Trump campaign adviser ...  politicsNews   \n",
       "4  SEATTLE/WASHINGTON (Reuters) - President Donal...  politicsNews   \n",
       "\n",
       "                 date  \n",
       "0  December 31, 2017   \n",
       "1  December 29, 2017   \n",
       "2  December 31, 2017   \n",
       "3  December 30, 2017   \n",
       "4  December 29, 2017   "
      ]
     },
     "execution_count": 4,
     "metadata": {},
     "output_type": "execute_result"
    }
   ],
   "source": [
    "true.head()"
   ]
  },
  {
   "cell_type": "code",
   "execution_count": 5,
   "id": "2035f300",
   "metadata": {
    "execution": {
     "iopub.execute_input": "2025-08-11T11:01:33.906780Z",
     "iopub.status.busy": "2025-08-11T11:01:33.906375Z",
     "iopub.status.idle": "2025-08-11T11:01:33.920962Z",
     "shell.execute_reply": "2025-08-11T11:01:33.920044Z"
    },
    "papermill": {
     "duration": 0.023422,
     "end_time": "2025-08-11T11:01:33.922644",
     "exception": false,
     "start_time": "2025-08-11T11:01:33.899222",
     "status": "completed"
    },
    "tags": []
   },
   "outputs": [],
   "source": [
    "# Concat two data frames together \n",
    "\n",
    "fake[\"label\"] = 0  # 0 = Fake\n",
    "true[\"label\"] = 1  # 1 = Real\n",
    "\n",
    "df = pd.concat([fake, true], axis=0)\n"
   ]
  },
  {
   "cell_type": "code",
   "execution_count": 6,
   "id": "59720784",
   "metadata": {
    "execution": {
     "iopub.execute_input": "2025-08-11T11:01:33.937125Z",
     "iopub.status.busy": "2025-08-11T11:01:33.936820Z",
     "iopub.status.idle": "2025-08-11T11:01:33.961181Z",
     "shell.execute_reply": "2025-08-11T11:01:33.959733Z"
    },
    "papermill": {
     "duration": 0.033677,
     "end_time": "2025-08-11T11:01:33.962846",
     "exception": false,
     "start_time": "2025-08-11T11:01:33.929169",
     "status": "completed"
    },
    "tags": []
   },
   "outputs": [
    {
     "name": "stdout",
     "output_type": "stream",
     "text": [
      "title      0\n",
      "text       0\n",
      "subject    0\n",
      "date       0\n",
      "label      0\n",
      "dtype: int64\n"
     ]
    }
   ],
   "source": [
    "print(df.isnull().sum())\n"
   ]
  },
  {
   "cell_type": "markdown",
   "id": "61081aed",
   "metadata": {
    "papermill": {
     "duration": 0.005828,
     "end_time": "2025-08-11T11:01:33.975105",
     "exception": false,
     "start_time": "2025-08-11T11:01:33.969277",
     "status": "completed"
    },
    "tags": []
   },
   "source": [
    "* There is no null value.That's what make us happy."
   ]
  },
  {
   "cell_type": "code",
   "execution_count": 7,
   "id": "289d3b9a",
   "metadata": {
    "execution": {
     "iopub.execute_input": "2025-08-11T11:01:33.989012Z",
     "iopub.status.busy": "2025-08-11T11:01:33.988125Z",
     "iopub.status.idle": "2025-08-11T11:01:34.337639Z",
     "shell.execute_reply": "2025-08-11T11:01:34.336692Z"
    },
    "papermill": {
     "duration": 0.357864,
     "end_time": "2025-08-11T11:01:34.339141",
     "exception": false,
     "start_time": "2025-08-11T11:01:33.981277",
     "status": "completed"
    },
    "tags": []
   },
   "outputs": [
    {
     "name": "stderr",
     "output_type": "stream",
     "text": [
      "/usr/local/lib/python3.11/dist-packages/seaborn/_oldcore.py:1498: DeprecationWarning: is_categorical_dtype is deprecated and will be removed in a future version. Use isinstance(dtype, pd.CategoricalDtype) instead\n",
      "  if pd.api.types.is_categorical_dtype(vector):\n",
      "/usr/local/lib/python3.11/dist-packages/seaborn/_oldcore.py:1498: DeprecationWarning: is_categorical_dtype is deprecated and will be removed in a future version. Use isinstance(dtype, pd.CategoricalDtype) instead\n",
      "  if pd.api.types.is_categorical_dtype(vector):\n",
      "/usr/local/lib/python3.11/dist-packages/seaborn/_oldcore.py:1498: DeprecationWarning: is_categorical_dtype is deprecated and will be removed in a future version. Use isinstance(dtype, pd.CategoricalDtype) instead\n",
      "  if pd.api.types.is_categorical_dtype(vector):\n"
     ]
    },
    {
     "data": {
      "image/png": "[encoded data removed]",
      "text/plain": [
       "<Figure size 640x480 with 1 Axes>"
      ]
     },
     "metadata": {},
     "output_type": "display_data"
    }
   ],
   "source": [
    "sns.countplot(x=\"label\", data=df)\n",
    "plt.title(\"Class distribution (0=Fake, 1=True)\")\n",
    "plt.show()"
   ]
  },
  {
   "cell_type": "markdown",
   "id": "55475dfd",
   "metadata": {
    "papermill": {
     "duration": 0.00579,
     "end_time": "2025-08-11T11:01:34.351559",
     "exception": false,
     "start_time": "2025-08-11T11:01:34.345769",
     "status": "completed"
    },
    "tags": []
   },
   "source": [
    "* As it's clear, fake and true label distributions are equal. That makes a any Ml model works properly"
   ]
  },
  {
   "cell_type": "markdown",
   "id": "800feac9",
   "metadata": {
    "papermill": {
     "duration": 0.005934,
     "end_time": "2025-08-11T11:01:34.364132",
     "exception": false,
     "start_time": "2025-08-11T11:01:34.358198",
     "status": "completed"
    },
    "tags": []
   },
   "source": [
    "# Preprocessing"
   ]
  },
  {
   "cell_type": "code",
   "execution_count": 8,
   "id": "09bd2f79",
   "metadata": {
    "execution": {
     "iopub.execute_input": "2025-08-11T11:01:34.377854Z",
     "iopub.status.busy": "2025-08-11T11:01:34.377473Z",
     "iopub.status.idle": "2025-08-11T11:01:35.454344Z",
     "shell.execute_reply": "2025-08-11T11:01:35.453488Z"
    },
    "papermill": {
     "duration": 1.085653,
     "end_time": "2025-08-11T11:01:35.456094",
     "exception": false,
     "start_time": "2025-08-11T11:01:34.370441",
     "status": "completed"
    },
    "tags": []
   },
   "outputs": [],
   "source": [
    "# add dependency\n",
    "import string\n",
    "import nltk\n",
    "from nltk.corpus import stopwords\n",
    "from nltk.stem import WordNetLemmatizer\n",
    "import re\n"
   ]
  },
  {
   "cell_type": "code",
   "execution_count": 9,
   "id": "d12bec71",
   "metadata": {
    "execution": {
     "iopub.execute_input": "2025-08-11T11:01:35.470840Z",
     "iopub.status.busy": "2025-08-11T11:01:35.470497Z",
     "iopub.status.idle": "2025-08-11T11:01:35.870802Z",
     "shell.execute_reply": "2025-08-11T11:01:35.869914Z"
    },
    "papermill": {
     "duration": 0.409804,
     "end_time": "2025-08-11T11:01:35.872375",
     "exception": false,
     "start_time": "2025-08-11T11:01:35.462571",
     "status": "completed"
    },
    "tags": []
   },
   "outputs": [
    {
     "name": "stderr",
     "output_type": "stream",
     "text": [
      "[nltk_data] Downloading package stopwords to /usr/share/nltk_data...\n",
      "[nltk_data]   Package stopwords is already up-to-date!\n",
      "[nltk_data] Downloading package wordnet to /usr/share/nltk_data...\n",
      "[nltk_data]   Package wordnet is already up-to-date!\n",
      "[nltk_data] Downloading package omw-1.4 to /usr/share/nltk_data...\n"
     ]
    },
    {
     "data": {
      "text/plain": [
       "True"
      ]
     },
     "execution_count": 9,
     "metadata": {},
     "output_type": "execute_result"
    }
   ],
   "source": [
    "# download resources\n",
    "nltk.download('stopwords')\n",
    "nltk.download('wordnet')\n",
    "nltk.download('omw-1.4')"
   ]
  },
  {
   "cell_type": "code",
   "execution_count": 10,
   "id": "7cde4331",
   "metadata": {
    "execution": {
     "iopub.execute_input": "2025-08-11T11:01:35.886893Z",
     "iopub.status.busy": "2025-08-11T11:01:35.886521Z",
     "iopub.status.idle": "2025-08-11T11:01:43.438374Z",
     "shell.execute_reply": "2025-08-11T11:01:43.437470Z"
    },
    "papermill": {
     "duration": 7.560979,
     "end_time": "2025-08-11T11:01:43.440115",
     "exception": false,
     "start_time": "2025-08-11T11:01:35.879136",
     "status": "completed"
    },
    "tags": []
   },
   "outputs": [],
   "source": [
    "# uppercase to lowercase\n",
    "df[\"text\"] = df[\"text\"].str.lower()\n",
    "\n",
    "# deleting link and stuff XD\n",
    "df[\"text\"] = df[\"text\"].apply(lambda x: re.sub(r'http\\S+|www\\S+|https\\S+', '', x))  \n",
    "df[\"text\"] = df[\"text\"].apply(lambda x: re.sub(r'\\d+', '', x))  \n",
    "df[\"text\"] = df[\"text\"].apply(lambda x: x.translate(str.maketrans('', '', string.punctuation)))  "
   ]
  },
  {
   "cell_type": "code",
   "execution_count": 11,
   "id": "0a55bd0b",
   "metadata": {
    "execution": {
     "iopub.execute_input": "2025-08-11T11:01:43.455081Z",
     "iopub.status.busy": "2025-08-11T11:01:43.454737Z",
     "iopub.status.idle": "2025-08-11T11:01:46.314396Z",
     "shell.execute_reply": "2025-08-11T11:01:46.313039Z"
    },
    "papermill": {
     "duration": 2.86974,
     "end_time": "2025-08-11T11:01:46.316233",
     "exception": false,
     "start_time": "2025-08-11T11:01:43.446493",
     "status": "completed"
    },
    "tags": []
   },
   "outputs": [],
   "source": [
    "# delete stopwords\n",
    "stop_words = set(stopwords.words('english'))\n",
    "df[\"text\"] = df[\"text\"].apply(lambda x: ' '.join([word for word in x.split() if word not in stop_words]))"
   ]
  },
  {
   "cell_type": "code",
   "execution_count": 12,
   "id": "49a5bb35",
   "metadata": {
    "execution": {
     "iopub.execute_input": "2025-08-11T11:01:46.334476Z",
     "iopub.status.busy": "2025-08-11T11:01:46.334100Z",
     "iopub.status.idle": "2025-08-11T11:02:32.112118Z",
     "shell.execute_reply": "2025-08-11T11:02:32.111130Z"
    },
    "papermill": {
     "duration": 45.791218,
     "end_time": "2025-08-11T11:02:32.114074",
     "exception": false,
     "start_time": "2025-08-11T11:01:46.322856",
     "status": "completed"
    },
    "tags": []
   },
   "outputs": [],
   "source": [
    "# Lemmatization\n",
    "lemmatizer = WordNetLemmatizer()\n",
    "df[\"text\"] = df[\"text\"].apply(lambda x: ' '.join([lemmatizer.lemmatize(word) for word in x.split()]))"
   ]
  },
  {
   "cell_type": "code",
   "execution_count": 13,
   "id": "e72a0e9a",
   "metadata": {
    "execution": {
     "iopub.execute_input": "2025-08-11T11:02:32.129881Z",
     "iopub.status.busy": "2025-08-11T11:02:32.129507Z",
     "iopub.status.idle": "2025-08-11T11:02:32.136938Z",
     "shell.execute_reply": "2025-08-11T11:02:32.136044Z"
    },
    "papermill": {
     "duration": 0.017283,
     "end_time": "2025-08-11T11:02:32.138611",
     "exception": false,
     "start_time": "2025-08-11T11:02:32.121328",
     "status": "completed"
    },
    "tags": []
   },
   "outputs": [
    {
     "data": {
      "text/plain": [
       "0    donald trump wish american happy new year leav...\n",
       "1    house intelligence committee chairman devin nu...\n",
       "2    friday revealed former milwaukee sheriff david...\n",
       "3    christmas day donald trump announced would bac...\n",
       "4    pope francis used annual christmas day message...\n",
       "Name: text, dtype: object"
      ]
     },
     "execution_count": 13,
     "metadata": {},
     "output_type": "execute_result"
    }
   ],
   "source": [
    "df[\"text\"].head()\n"
   ]
  },
  {
   "cell_type": "markdown",
   "id": "ba8a29d0",
   "metadata": {
    "papermill": {
     "duration": 0.006445,
     "end_time": "2025-08-11T11:02:32.151866",
     "exception": false,
     "start_time": "2025-08-11T11:02:32.145421",
     "status": "completed"
    },
    "tags": []
   },
   "source": [
    "# Choosing Model"
   ]
  },
  {
   "cell_type": "markdown",
   "id": "3faeb578",
   "metadata": {
    "papermill": {
     "duration": 0.005945,
     "end_time": "2025-08-11T11:02:32.164074",
     "exception": false,
     "start_time": "2025-08-11T11:02:32.158129",
     "status": "completed"
    },
    "tags": []
   },
   "source": [
    "- In this section, I tried to examine different models and work on the winner one "
   ]
  },
  {
   "cell_type": "code",
   "execution_count": 14,
   "id": "909f3615",
   "metadata": {
    "execution": {
     "iopub.execute_input": "2025-08-11T11:02:32.177725Z",
     "iopub.status.busy": "2025-08-11T11:02:32.177417Z",
     "iopub.status.idle": "2025-08-11T11:11:31.785731Z",
     "shell.execute_reply": "2025-08-11T11:11:31.784731Z"
    },
    "papermill": {
     "duration": 539.624012,
     "end_time": "2025-08-11T11:11:31.794382",
     "exception": false,
     "start_time": "2025-08-11T11:02:32.170370",
     "status": "completed"
    },
    "tags": []
   },
   "outputs": [
    {
     "name": "stdout",
     "output_type": "stream",
     "text": [
      "Logistic Regression:               precision    recall  f1-score   support\n",
      "\n",
      "           0       0.99      0.99      0.99      4696\n",
      "           1       0.98      0.99      0.99      4284\n",
      "\n",
      "    accuracy                           0.99      8980\n",
      "   macro avg       0.99      0.99      0.99      8980\n",
      "weighted avg       0.99      0.99      0.99      8980\n",
      "\n",
      "Linear SVC:               precision    recall  f1-score   support\n",
      "\n",
      "           0       1.00      1.00      1.00      4696\n",
      "           1       1.00      1.00      1.00      4284\n",
      "\n",
      "    accuracy                           1.00      8980\n",
      "   macro avg       1.00      1.00      1.00      8980\n",
      "weighted avg       1.00      1.00      1.00      8980\n",
      "\n",
      "Multinomial NB:               precision    recall  f1-score   support\n",
      "\n",
      "           0       0.97      0.94      0.95      4696\n",
      "           1       0.93      0.97      0.95      4284\n",
      "\n",
      "    accuracy                           0.95      8980\n",
      "   macro avg       0.95      0.95      0.95      8980\n",
      "weighted avg       0.95      0.95      0.95      8980\n",
      "\n",
      "Random Forest:               precision    recall  f1-score   support\n",
      "\n",
      "           0       1.00      0.99      0.99      4696\n",
      "           1       0.99      1.00      0.99      4284\n",
      "\n",
      "    accuracy                           0.99      8980\n",
      "   macro avg       0.99      0.99      0.99      8980\n",
      "weighted avg       0.99      0.99      0.99      8980\n",
      "\n",
      "Gradient Boosting:               precision    recall  f1-score   support\n",
      "\n",
      "           0       1.00      0.99      1.00      4696\n",
      "           1       0.99      1.00      1.00      4284\n",
      "\n",
      "    accuracy                           1.00      8980\n",
      "   macro avg       1.00      1.00      1.00      8980\n",
      "weighted avg       1.00      1.00      1.00      8980\n",
      "\n",
      "Model Comparison:\n",
      "                 Model  Accuracy\n",
      "4    Gradient Boosting  0.996437\n",
      "1           Linear SVC  0.996325\n",
      "3        Random Forest  0.993096\n",
      "0  Logistic Regression  0.987862\n",
      "2       Multinomial NB  0.952450\n"
     ]
    }
   ],
   "source": [
    "from sklearn.model_selection import train_test_split\n",
    "from sklearn.feature_extraction.text import TfidfVectorizer\n",
    "from sklearn.linear_model import LogisticRegression\n",
    "from sklearn.naive_bayes import MultinomialNB\n",
    "from sklearn.svm import LinearSVC\n",
    "from sklearn.ensemble import RandomForestClassifier, GradientBoostingClassifier\n",
    "from sklearn.metrics import accuracy_score, classification_report\n",
    "import warnings\n",
    "warnings.filterwarnings(\"ignore\")\n",
    "\n",
    "# We have to input 'text' as the only input to the models --> prevent data leakage \n",
    "X_train, X_test, y_train, y_test = train_test_split(\n",
    "    df[\"text\"], df[\"label\"], test_size=0.2, random_state=42, stratify=df[\"label\"]\n",
    ")\n",
    "\n",
    "vectorizer = TfidfVectorizer(max_df=0.7)\n",
    "tfidf_train = vectorizer.fit_transform(X_train)\n",
    "tfidf_test = vectorizer.transform(X_test)\n",
    "\n",
    "models = {\n",
    "    \"Logistic Regression\": LogisticRegression(max_iter=200),\n",
    "    \"Linear SVC\": LinearSVC(),\n",
    "    \"Multinomial NB\": MultinomialNB(),\n",
    "    \"Random Forest\": RandomForestClassifier(n_estimators=200, random_state=42),\n",
    "    \"Gradient Boosting\": GradientBoostingClassifier(random_state=42)\n",
    "}\n",
    "\n",
    "results = []\n",
    "\n",
    "for name, model in models.items():\n",
    "    model.fit(tfidf_train, y_train)\n",
    "    y_pred = model.predict(tfidf_test)\n",
    "    acc = accuracy_score(y_test, y_pred)\n",
    "    results.append({\"Model\": name, \"Accuracy\": acc})\n",
    "    print(f\"{name}:\", classification_report(y_test, y_pred))\n",
    "\n",
    "results_df = pd.DataFrame(results).sort_values(by=\"Accuracy\", ascending=False)\n",
    "print(\"Model Comparison:\")\n",
    "print(results_df)\n"
   ]
  },
  {
   "cell_type": "markdown",
   "id": "ed33a8bf",
   "metadata": {
    "papermill": {
     "duration": 0.006503,
     "end_time": "2025-08-11T11:11:31.807883",
     "exception": false,
     "start_time": "2025-08-11T11:11:31.801380",
     "status": "completed"
    },
    "tags": []
   },
   "source": [
    "# Testing Data Leakage"
   ]
  },
  {
   "cell_type": "markdown",
   "id": "77f14b36",
   "metadata": {
    "papermill": {
     "duration": 0.006381,
     "end_time": "2025-08-11T11:11:31.820956",
     "exception": false,
     "start_time": "2025-08-11T11:11:31.814575",
     "status": "completed"
    },
    "tags": []
   },
   "source": [
    "- If in text, there are any specific words for each fake or true news,there is chance of data leakage"
   ]
  },
  {
   "cell_type": "code",
   "execution_count": 15,
   "id": "d49d5804",
   "metadata": {
    "execution": {
     "iopub.execute_input": "2025-08-11T11:11:31.836476Z",
     "iopub.status.busy": "2025-08-11T11:11:31.836157Z",
     "iopub.status.idle": "2025-08-11T11:11:34.855886Z",
     "shell.execute_reply": "2025-08-11T11:11:34.854822Z"
    },
    "papermill": {
     "duration": 3.029567,
     "end_time": "2025-08-11T11:11:34.857501",
     "exception": false,
     "start_time": "2025-08-11T11:11:31.827934",
     "status": "completed"
    },
    "tags": []
   },
   "outputs": [
    {
     "name": "stdout",
     "output_type": "stream",
     "text": [
      "Fake sample words: ['trumptexas', 'personalas', 'dustsecond', 'stiefler', 'conferencet', 'pictwittercomssapz', 'offensescharges', 'triggerthe', 'impeachmentbut', 'becketadams', 'cowardrealdonaldtrump', 'policeyou', 'syriafrom', 'morethe', 'consultantsbrazile', 'crashedin', 'askedtheir', 'podestaemails', 'incamanat', 'orleanslouisfarrakhan']\n",
      "Real sample words : ['“raising', 'cnooc', 'lahar', 'utilized”', 'tvp', '“shaping', 'ibes', 'erwan', 'trumplewis', 'outlasted', 'nlngcf', 'alassiri', 'plug”', 'epic’s', 'cards”', 'morell’s', 'bruchstein', 'sima', 'druglords', 'alnabaa']\n"
     ]
    }
   ],
   "source": [
    "from collections import Counter\n",
    "\n",
    "fake_words = Counter(\" \".join(df[df[\"label\"]==0][\"text\"]).split())\n",
    "real_words = Counter(\" \".join(df[df[\"label\"]==1][\"text\"]).split())\n",
    "\n",
    "exclusive_fake = set(fake_words) - set(real_words)\n",
    "exclusive_real = set(real_words) - set(fake_words)\n",
    "\n",
    "print(\"Fake sample words:\", list(exclusive_fake)[:20])\n",
    "print(\"Real sample words :\", list(exclusive_real)[:20])\n",
    "\n",
    "\n",
    "\n"
   ]
  },
  {
   "cell_type": "markdown",
   "id": "e28a617d",
   "metadata": {
    "papermill": {
     "duration": 0.006422,
     "end_time": "2025-08-11T11:11:34.871186",
     "exception": false,
     "start_time": "2025-08-11T11:11:34.864764",
     "status": "completed"
    },
    "tags": []
   },
   "source": [
    "- model memorize duplicated news"
   ]
  },
  {
   "cell_type": "code",
   "execution_count": 16,
   "id": "c03b33da",
   "metadata": {
    "execution": {
     "iopub.execute_input": "2025-08-11T11:11:34.886655Z",
     "iopub.status.busy": "2025-08-11T11:11:34.886320Z",
     "iopub.status.idle": "2025-08-11T11:11:34.953775Z",
     "shell.execute_reply": "2025-08-11T11:11:34.952702Z"
    },
    "papermill": {
     "duration": 0.077618,
     "end_time": "2025-08-11T11:11:34.955811",
     "exception": false,
     "start_time": "2025-08-11T11:11:34.878193",
     "status": "completed"
    },
    "tags": []
   },
   "outputs": [
    {
     "name": "stdout",
     "output_type": "stream",
     "text": [
      " dup news : 11426\n"
     ]
    }
   ],
   "source": [
    "duplicates = df.duplicated(subset=[\"text\"], keep=False)\n",
    "print(\" dup news :\", duplicates.sum())\n"
   ]
  },
  {
   "cell_type": "markdown",
   "id": "0d54fe61",
   "metadata": {
    "papermill": {
     "duration": 0.006557,
     "end_time": "2025-08-11T11:11:34.970436",
     "exception": false,
     "start_time": "2025-08-11T11:11:34.963879",
     "status": "completed"
    },
    "tags": []
   },
   "source": [
    "# phase 2 models"
   ]
  },
  {
   "cell_type": "code",
   "execution_count": 17,
   "id": "2b4dc609",
   "metadata": {
    "execution": {
     "iopub.execute_input": "2025-08-11T11:11:34.988527Z",
     "iopub.status.busy": "2025-08-11T11:11:34.988178Z",
     "iopub.status.idle": "2025-08-11T11:11:35.024192Z",
     "shell.execute_reply": "2025-08-11T11:11:35.023150Z"
    },
    "papermill": {
     "duration": 0.047092,
     "end_time": "2025-08-11T11:11:35.025800",
     "exception": false,
     "start_time": "2025-08-11T11:11:34.978708",
     "status": "completed"
    },
    "tags": []
   },
   "outputs": [
    {
     "name": "stdout",
     "output_type": "stream",
     "text": [
      ": 38583\n"
     ]
    }
   ],
   "source": [
    "#delete duplicated\n",
    "df_clean = df.drop_duplicates(subset=[\"text\"]).reset_index(drop=True)\n",
    "print(f\": {len(df_clean)}\")"
   ]
  },
  {
   "cell_type": "code",
   "execution_count": 18,
   "id": "2ae408dc",
   "metadata": {
    "execution": {
     "iopub.execute_input": "2025-08-11T11:11:35.041199Z",
     "iopub.status.busy": "2025-08-11T11:11:35.040855Z",
     "iopub.status.idle": "2025-08-11T11:11:42.772093Z",
     "shell.execute_reply": "2025-08-11T11:11:42.771205Z"
    },
    "papermill": {
     "duration": 7.740839,
     "end_time": "2025-08-11T11:11:42.773751",
     "exception": false,
     "start_time": "2025-08-11T11:11:35.032912",
     "status": "completed"
    },
    "tags": []
   },
   "outputs": [],
   "source": [
    "# preprocessing agian\n",
    "def clean_text(text):\n",
    "    text = text.lower()\n",
    "    text = re.sub(r\"http\\S+\", \"\", text)               # حذف لینک‌ها\n",
    "    text = re.sub(r\"\\d+\", \"\", text)                   # حذف اعداد\n",
    "    text = text.translate(str.maketrans(\"\", \"\", string.punctuation))  # حذف علائم نگارشی\n",
    "    text = re.sub(r\"\\s+\", \" \", text).strip()\n",
    "    return text\n",
    "\n",
    "df_clean[\"clean_text\"] = df_clean[\"text\"].apply(clean_text)\n"
   ]
  },
  {
   "cell_type": "code",
   "execution_count": 19,
   "id": "a636af9e",
   "metadata": {
    "execution": {
     "iopub.execute_input": "2025-08-11T11:11:42.789521Z",
     "iopub.status.busy": "2025-08-11T11:11:42.789209Z",
     "iopub.status.idle": "2025-08-11T11:11:45.271256Z",
     "shell.execute_reply": "2025-08-11T11:11:45.270355Z"
    },
    "papermill": {
     "duration": 2.491492,
     "end_time": "2025-08-11T11:11:45.272830",
     "exception": false,
     "start_time": "2025-08-11T11:11:42.781338",
     "status": "completed"
    },
    "tags": []
   },
   "outputs": [],
   "source": [
    "# Identify exclusive words\n",
    "\n",
    "fake_words = Counter(\" \".join(df_clean[df_clean[\"label\"]==0][\"clean_text\"]).split())\n",
    "real_words = Counter(\" \".join(df_clean[df_clean[\"label\"]==1][\"clean_text\"]).split())\n",
    "\n",
    "exclusive_fake = set(fake_words) - set(real_words)\n",
    "exclusive_real = set(real_words) - set(fake_words)"
   ]
  },
  {
   "cell_type": "code",
   "execution_count": 20,
   "id": "9caeb41f",
   "metadata": {
    "execution": {
     "iopub.execute_input": "2025-08-11T11:11:45.289007Z",
     "iopub.status.busy": "2025-08-11T11:11:45.288665Z",
     "iopub.status.idle": "2025-08-11T11:11:48.959456Z",
     "shell.execute_reply": "2025-08-11T11:11:48.958527Z"
    },
    "papermill": {
     "duration": 3.680577,
     "end_time": "2025-08-11T11:11:48.961226",
     "exception": false,
     "start_time": "2025-08-11T11:11:45.280649",
     "status": "completed"
    },
    "tags": []
   },
   "outputs": [],
   "source": [
    "# delete exclusive\n",
    "\n",
    "def remove_exclusive_and_rare_words(text, rare_threshold=2):\n",
    "    words = text.split()\n",
    "    words = [w for w in words if w not in exclusive_fake and w not in exclusive_real]\n",
    "    counts = Counter(words)\n",
    "    words = [w for w in words if counts[w] >= rare_threshold]\n",
    "    return \" \".join(words)\n",
    "\n",
    "df_clean[\"clean_text\"] = df_clean[\"clean_text\"].apply(remove_exclusive_and_rare_words)"
   ]
  },
  {
   "cell_type": "code",
   "execution_count": 21,
   "id": "89154210",
   "metadata": {
    "execution": {
     "iopub.execute_input": "2025-08-11T11:11:48.978799Z",
     "iopub.status.busy": "2025-08-11T11:11:48.978459Z",
     "iopub.status.idle": "2025-08-11T11:11:57.622886Z",
     "shell.execute_reply": "2025-08-11T11:11:57.621926Z"
    },
    "papermill": {
     "duration": 8.655893,
     "end_time": "2025-08-11T11:11:57.624705",
     "exception": false,
     "start_time": "2025-08-11T11:11:48.968812",
     "status": "completed"
    },
    "tags": []
   },
   "outputs": [],
   "source": [
    "# train-test and vectorize\n",
    "X_train, X_test, y_train, y_test = train_test_split(\n",
    "    df_clean[\"clean_text\"], df_clean[\"label\"], test_size=0.2,\n",
    "    random_state=42, stratify=df_clean[\"label\"]\n",
    ")\n",
    "\n",
    "vectorizer = TfidfVectorizer(max_df=0.7, min_df=3, ngram_range=(1, 2))\n",
    "X_train_tfidf = vectorizer.fit_transform(X_train)\n",
    "X_test_tfidf = vectorizer.transform(X_test)\n"
   ]
  },
  {
   "cell_type": "code",
   "execution_count": 22,
   "id": "6b477618",
   "metadata": {
    "execution": {
     "iopub.execute_input": "2025-08-11T11:11:57.714029Z",
     "iopub.status.busy": "2025-08-11T11:11:57.713710Z",
     "iopub.status.idle": "2025-08-11T11:11:59.773299Z",
     "shell.execute_reply": "2025-08-11T11:11:59.771490Z"
    },
    "papermill": {
     "duration": 2.143503,
     "end_time": "2025-08-11T11:11:59.775240",
     "exception": false,
     "start_time": "2025-08-11T11:11:57.631737",
     "status": "completed"
    },
    "tags": []
   },
   "outputs": [
    {
     "name": "stdout",
     "output_type": "stream",
     "text": [
      "Accuracy after cleaning: 0.9425942723856421\n",
      "              precision    recall  f1-score   support\n",
      "\n",
      "           0       0.94      0.93      0.94      3479\n",
      "           1       0.95      0.95      0.95      4238\n",
      "\n",
      "    accuracy                           0.94      7717\n",
      "   macro avg       0.94      0.94      0.94      7717\n",
      "weighted avg       0.94      0.94      0.94      7717\n",
      "\n"
     ]
    }
   ],
   "source": [
    "# god help me defeat data leakage\n",
    "model = LogisticRegression(max_iter=200)\n",
    "model.fit(X_train_tfidf, y_train)\n",
    "y_pred = model.predict(X_test_tfidf)\n",
    "\n",
    "print(\"Accuracy after cleaning:\", accuracy_score(y_test, y_pred))\n",
    "print(classification_report(y_test, y_pred))"
   ]
  },
  {
   "cell_type": "markdown",
   "id": "968ad0ca",
   "metadata": {
    "papermill": {
     "duration": 0.016381,
     "end_time": "2025-08-11T11:11:59.803956",
     "exception": false,
     "start_time": "2025-08-11T11:11:59.787575",
     "status": "completed"
    },
    "tags": []
   },
   "source": [
    "* bia vasat"
   ]
  },
  {
   "cell_type": "code",
   "execution_count": 23,
   "id": "7c5007aa",
   "metadata": {
    "execution": {
     "iopub.execute_input": "2025-08-11T11:11:59.831893Z",
     "iopub.status.busy": "2025-08-11T11:11:59.831404Z",
     "iopub.status.idle": "2025-08-11T11:16:16.257731Z",
     "shell.execute_reply": "2025-08-11T11:16:16.256067Z"
    },
    "papermill": {
     "duration": 256.441891,
     "end_time": "2025-08-11T11:16:16.259418",
     "exception": false,
     "start_time": "2025-08-11T11:11:59.817527",
     "status": "completed"
    },
    "tags": []
   },
   "outputs": [
    {
     "name": "stdout",
     "output_type": "stream",
     "text": [
      "Linear SVC Accuracy: 0.9492\n",
      "              precision    recall  f1-score   support\n",
      "\n",
      "           0       0.94      0.95      0.94      3479\n",
      "           1       0.96      0.95      0.95      4238\n",
      "\n",
      "    accuracy                           0.95      7717\n",
      "   macro avg       0.95      0.95      0.95      7717\n",
      "weighted avg       0.95      0.95      0.95      7717\n",
      "\n",
      "Gradient Boosting Accuracy: 0.8857\n",
      "              precision    recall  f1-score   support\n",
      "\n",
      "           0       0.85      0.90      0.88      3479\n",
      "           1       0.91      0.87      0.89      4238\n",
      "\n",
      "    accuracy                           0.89      7717\n",
      "   macro avg       0.88      0.89      0.89      7717\n",
      "weighted avg       0.89      0.89      0.89      7717\n",
      "\n",
      "Random Forest Accuracy: 0.9366\n",
      "              precision    recall  f1-score   support\n",
      "\n",
      "           0       0.94      0.92      0.93      3479\n",
      "           1       0.93      0.95      0.94      4238\n",
      "\n",
      "    accuracy                           0.94      7717\n",
      "   macro avg       0.94      0.93      0.94      7717\n",
      "weighted avg       0.94      0.94      0.94      7717\n",
      "\n",
      "Multinomial NB Accuracy: 0.9054\n",
      "              precision    recall  f1-score   support\n",
      "\n",
      "           0       0.93      0.85      0.89      3479\n",
      "           1       0.89      0.95      0.92      4238\n",
      "\n",
      "    accuracy                           0.91      7717\n",
      "   macro avg       0.91      0.90      0.90      7717\n",
      "weighted avg       0.91      0.91      0.90      7717\n",
      "\n",
      "Logistic Regression Accuracy: 0.9426\n",
      "              precision    recall  f1-score   support\n",
      "\n",
      "           0       0.94      0.93      0.94      3479\n",
      "           1       0.95      0.95      0.95      4238\n",
      "\n",
      "    accuracy                           0.94      7717\n",
      "   macro avg       0.94      0.94      0.94      7717\n",
      "weighted avg       0.94      0.94      0.94      7717\n",
      "\n",
      "Summary of accuracies:\n",
      "Linear SVC: 0.9492\n",
      "Gradient Boosting: 0.8857\n",
      "Random Forest: 0.9366\n",
      "Multinomial NB: 0.9054\n",
      "Logistic Regression: 0.9426\n"
     ]
    }
   ],
   "source": [
    "models = {\n",
    "    \"Linear SVC\": LinearSVC(max_iter=2000),\n",
    "    \"Gradient Boosting\": GradientBoostingClassifier(),\n",
    "    \"Random Forest\": RandomForestClassifier(n_estimators=200, random_state=42, n_jobs=-1),\n",
    "    \"Multinomial NB\": MultinomialNB(),\n",
    "    \"Logistic Regression\": LogisticRegression(max_iter=200)\n",
    "}\n",
    "\n",
    "results = {}\n",
    "for name, model in models.items():\n",
    "    model.fit(X_train_tfidf, y_train)\n",
    "    preds = model.predict(X_test_tfidf)\n",
    "    acc = accuracy_score(y_test, preds)\n",
    "    results[name] = acc\n",
    "    print(f\"{name} Accuracy: {acc:.4f}\")\n",
    "    print(classification_report(y_test, preds))\n",
    "\n",
    "print(\"Summary of accuracies:\")\n",
    "for k, v in results.items():\n",
    "    print(f\"{k}: {v:.4f}\")"
   ]
  }
 ],
 "metadata": {
  "kaggle": {
   "accelerator": "none",
   "dataSources": [
    {
     "datasetId": 4831777,
     "sourceId": 8165591,
     "sourceType": "datasetVersion"
    }
   ],
   "dockerImageVersionId": 31089,
   "isGpuEnabled": false,
   "isInternetEnabled": true,
   "language": "python",
   "sourceType": "notebook"
  },
  "kernelspec": {
   "display_name": "Python 3",
   "language": "python",
   "name": "python3"
  },
  "language_info": {
   "codemirror_mode": {
    "name": "ipython",
    "version": 3
   },
   "file_extension": ".py",
   "mimetype": "text/x-python",
   "name": "python",
   "nbconvert_exporter": "python",
   "pygments_lexer": "ipython3",
   "version": "3.11.13"
  },
  "papermill": {
   "default_parameters": {},
   "duration": 896.081132,
   "end_time": "2025-08-11T11:16:17.797817",
   "environment_variables": {},
   "exception": null,
   "input_path": "__notebook__.ipynb",
   "output_path": "__notebook__.ipynb",
   "parameters": {},
   "start_time": "2025-08-11T11:01:21.716685",
   "version": "2.6.0"
  }
 },
 "nbformat": 4,
 "nbformat_minor": 5
}
