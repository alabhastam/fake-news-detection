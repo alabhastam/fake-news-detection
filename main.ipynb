{
 "cells": [
  {
   "cell_type": "markdown",
   "id": "e0b25665",
   "metadata": {
    "papermill": {
     "duration": 0.005297,
     "end_time": "2025-08-11T10:14:20.944269",
     "exception": false,
     "start_time": "2025-08-11T10:14:20.938972",
     "status": "completed"
    },
    "tags": []
   },
   "source": [
    "# Loading Data and Glance"
   ]
  },
  {
   "cell_type": "code",
   "execution_count": 1,
   "id": "a2192082",
   "metadata": {
    "execution": {
     "iopub.execute_input": "2025-08-11T10:14:20.953881Z",
     "iopub.status.busy": "2025-08-11T10:14:20.953568Z",
     "iopub.status.idle": "2025-08-11T10:14:28.083984Z",
     "shell.execute_reply": "2025-08-11T10:14:28.083063Z"
    },
    "papermill": {
     "duration": 7.137268,
     "end_time": "2025-08-11T10:14:28.085818",
     "exception": false,
     "start_time": "2025-08-11T10:14:20.948550",
     "status": "completed"
    },
    "tags": []
   },
   "outputs": [],
   "source": [
    "import pandas as pd\n",
    "import matplotlib.pyplot as plt\n",
    "import seaborn as sns\n",
    "import warnings\n",
    "warnings.filterwarnings('always')\n",
    "\n",
    "fake = pd.read_csv(\"/kaggle/input/fake-and-real-news-dataset/Fake.csv\")\n",
    "true = pd.read_csv(\"/kaggle/input/fake-and-real-news-dataset/True.csv\")"
   ]
  },
  {
   "cell_type": "code",
   "execution_count": 2,
   "id": "aa860907",
   "metadata": {
    "execution": {
     "iopub.execute_input": "2025-08-11T10:14:28.100797Z",
     "iopub.status.busy": "2025-08-11T10:14:28.099983Z",
     "iopub.status.idle": "2025-08-11T10:14:28.106731Z",
     "shell.execute_reply": "2025-08-11T10:14:28.105390Z"
    },
    "papermill": {
     "duration": 0.016835,
     "end_time": "2025-08-11T10:14:28.108240",
     "exception": false,
     "start_time": "2025-08-11T10:14:28.091405",
     "status": "completed"
    },
    "tags": []
   },
   "outputs": [
    {
     "name": "stdout",
     "output_type": "stream",
     "text": [
      "Fake News Dataset Shape: (23481, 4)\n",
      "True News Dataset Shape: (21417, 4)\n"
     ]
    }
   ],
   "source": [
    "print(\"Fake News Dataset Shape:\", fake.shape)\n",
    "print(\"True News Dataset Shape:\", true.shape)\n"
   ]
  },
  {
   "cell_type": "code",
   "execution_count": 3,
   "id": "f170eaf4",
   "metadata": {
    "execution": {
     "iopub.execute_input": "2025-08-11T10:14:28.118270Z",
     "iopub.status.busy": "2025-08-11T10:14:28.117924Z",
     "iopub.status.idle": "2025-08-11T10:14:28.147833Z",
     "shell.execute_reply": "2025-08-11T10:14:28.146869Z"
    },
    "papermill": {
     "duration": 0.036671,
     "end_time": "2025-08-11T10:14:28.149463",
     "exception": false,
     "start_time": "2025-08-11T10:14:28.112792",
     "status": "completed"
    },
    "tags": []
   },
   "outputs": [
    {
     "data": {
      "text/html": [
       "<div>\n",
       "<style scoped>\n",
       "    .dataframe tbody tr th:only-of-type {\n",
       "        vertical-align: middle;\n",
       "    }\n",
       "\n",
       "    .dataframe tbody tr th {\n",
       "        vertical-align: top;\n",
       "    }\n",
       "\n",
       "    .dataframe thead th {\n",
       "        text-align: right;\n",
       "    }\n",
       "</style>\n",
       "<table border=\"1\" class=\"dataframe\">\n",
       "  <thead>\n",
       "    <tr style=\"text-align: right;\">\n",
       "      <th></th>\n",
       "      <th>title</th>\n",
       "      <th>text</th>\n",
       "      <th>subject</th>\n",
       "      <th>date</th>\n",
       "    </tr>\n",
       "  </thead>\n",
       "  <tbody>\n",
       "    <tr>\n",
       "      <th>0</th>\n",
       "      <td>Donald Trump Sends Out Embarrassing New Year’...</td>\n",
       "      <td>Donald Trump just couldn t wish all Americans ...</td>\n",
       "      <td>News</td>\n",
       "      <td>December 31, 2017</td>\n",
       "    </tr>\n",
       "    <tr>\n",
       "      <th>1</th>\n",
       "      <td>Drunk Bragging Trump Staffer Started Russian ...</td>\n",
       "      <td>House Intelligence Committee Chairman Devin Nu...</td>\n",
       "      <td>News</td>\n",
       "      <td>December 31, 2017</td>\n",
       "    </tr>\n",
       "    <tr>\n",
       "      <th>2</th>\n",
       "      <td>Sheriff David Clarke Becomes An Internet Joke...</td>\n",
       "      <td>On Friday, it was revealed that former Milwauk...</td>\n",
       "      <td>News</td>\n",
       "      <td>December 30, 2017</td>\n",
       "    </tr>\n",
       "    <tr>\n",
       "      <th>3</th>\n",
       "      <td>Trump Is So Obsessed He Even Has Obama’s Name...</td>\n",
       "      <td>On Christmas day, Donald Trump announced that ...</td>\n",
       "      <td>News</td>\n",
       "      <td>December 29, 2017</td>\n",
       "    </tr>\n",
       "    <tr>\n",
       "      <th>4</th>\n",
       "      <td>Pope Francis Just Called Out Donald Trump Dur...</td>\n",
       "      <td>Pope Francis used his annual Christmas Day mes...</td>\n",
       "      <td>News</td>\n",
       "      <td>December 25, 2017</td>\n",
       "    </tr>\n",
       "  </tbody>\n",
       "</table>\n",
       "</div>"
      ],
      "text/plain": [
       "                                               title  \\\n",
       "0   Donald Trump Sends Out Embarrassing New Year’...   \n",
       "1   Drunk Bragging Trump Staffer Started Russian ...   \n",
       "2   Sheriff David Clarke Becomes An Internet Joke...   \n",
       "3   Trump Is So Obsessed He Even Has Obama’s Name...   \n",
       "4   Pope Francis Just Called Out Donald Trump Dur...   \n",
       "\n",
       "                                                text subject  \\\n",
       "0  Donald Trump just couldn t wish all Americans ...    News   \n",
       "1  House Intelligence Committee Chairman Devin Nu...    News   \n",
       "2  On Friday, it was revealed that former Milwauk...    News   \n",
       "3  On Christmas day, Donald Trump announced that ...    News   \n",
       "4  Pope Francis used his annual Christmas Day mes...    News   \n",
       "\n",
       "                date  \n",
       "0  December 31, 2017  \n",
       "1  December 31, 2017  \n",
       "2  December 30, 2017  \n",
       "3  December 29, 2017  \n",
       "4  December 25, 2017  "
      ]
     },
     "execution_count": 3,
     "metadata": {},
     "output_type": "execute_result"
    }
   ],
   "source": [
    "fake.head()"
   ]
  },
  {
   "cell_type": "code",
   "execution_count": 4,
   "id": "19b8abb4",
   "metadata": {
    "execution": {
     "iopub.execute_input": "2025-08-11T10:14:28.160054Z",
     "iopub.status.busy": "2025-08-11T10:14:28.159618Z",
     "iopub.status.idle": "2025-08-11T10:14:28.173259Z",
     "shell.execute_reply": "2025-08-11T10:14:28.172257Z"
    },
    "papermill": {
     "duration": 0.020961,
     "end_time": "2025-08-11T10:14:28.175092",
     "exception": false,
     "start_time": "2025-08-11T10:14:28.154131",
     "status": "completed"
    },
    "tags": []
   },
   "outputs": [
    {
     "data": {
      "text/html": [
       "<div>\n",
       "<style scoped>\n",
       "    .dataframe tbody tr th:only-of-type {\n",
       "        vertical-align: middle;\n",
       "    }\n",
       "\n",
       "    .dataframe tbody tr th {\n",
       "        vertical-align: top;\n",
       "    }\n",
       "\n",
       "    .dataframe thead th {\n",
       "        text-align: right;\n",
       "    }\n",
       "</style>\n",
       "<table border=\"1\" class=\"dataframe\">\n",
       "  <thead>\n",
       "    <tr style=\"text-align: right;\">\n",
       "      <th></th>\n",
       "      <th>title</th>\n",
       "      <th>text</th>\n",
       "      <th>subject</th>\n",
       "      <th>date</th>\n",
       "    </tr>\n",
       "  </thead>\n",
       "  <tbody>\n",
       "    <tr>\n",
       "      <th>0</th>\n",
       "      <td>As U.S. budget fight looms, Republicans flip t...</td>\n",
       "      <td>WASHINGTON (Reuters) - The head of a conservat...</td>\n",
       "      <td>politicsNews</td>\n",
       "      <td>December 31, 2017</td>\n",
       "    </tr>\n",
       "    <tr>\n",
       "      <th>1</th>\n",
       "      <td>U.S. military to accept transgender recruits o...</td>\n",
       "      <td>WASHINGTON (Reuters) - Transgender people will...</td>\n",
       "      <td>politicsNews</td>\n",
       "      <td>December 29, 2017</td>\n",
       "    </tr>\n",
       "    <tr>\n",
       "      <th>2</th>\n",
       "      <td>Senior U.S. Republican senator: 'Let Mr. Muell...</td>\n",
       "      <td>WASHINGTON (Reuters) - The special counsel inv...</td>\n",
       "      <td>politicsNews</td>\n",
       "      <td>December 31, 2017</td>\n",
       "    </tr>\n",
       "    <tr>\n",
       "      <th>3</th>\n",
       "      <td>FBI Russia probe helped by Australian diplomat...</td>\n",
       "      <td>WASHINGTON (Reuters) - Trump campaign adviser ...</td>\n",
       "      <td>politicsNews</td>\n",
       "      <td>December 30, 2017</td>\n",
       "    </tr>\n",
       "    <tr>\n",
       "      <th>4</th>\n",
       "      <td>Trump wants Postal Service to charge 'much mor...</td>\n",
       "      <td>SEATTLE/WASHINGTON (Reuters) - President Donal...</td>\n",
       "      <td>politicsNews</td>\n",
       "      <td>December 29, 2017</td>\n",
       "    </tr>\n",
       "  </tbody>\n",
       "</table>\n",
       "</div>"
      ],
      "text/plain": [
       "                                               title  \\\n",
       "0  As U.S. budget fight looms, Republicans flip t...   \n",
       "1  U.S. military to accept transgender recruits o...   \n",
       "2  Senior U.S. Republican senator: 'Let Mr. Muell...   \n",
       "3  FBI Russia probe helped by Australian diplomat...   \n",
       "4  Trump wants Postal Service to charge 'much mor...   \n",
       "\n",
       "                                                text       subject  \\\n",
       "0  WASHINGTON (Reuters) - The head of a conservat...  politicsNews   \n",
       "1  WASHINGTON (Reuters) - Transgender people will...  politicsNews   \n",
       "2  WASHINGTON (Reuters) - The special counsel inv...  politicsNews   \n",
       "3  WASHINGTON (Reuters) - Trump campaign adviser ...  politicsNews   \n",
       "4  SEATTLE/WASHINGTON (Reuters) - President Donal...  politicsNews   \n",
       "\n",
       "                 date  \n",
       "0  December 31, 2017   \n",
       "1  December 29, 2017   \n",
       "2  December 31, 2017   \n",
       "3  December 30, 2017   \n",
       "4  December 29, 2017   "
      ]
     },
     "execution_count": 4,
     "metadata": {},
     "output_type": "execute_result"
    }
   ],
   "source": [
    "true.head()"
   ]
  },
  {
   "cell_type": "code",
   "execution_count": 5,
   "id": "35a51e0c",
   "metadata": {
    "execution": {
     "iopub.execute_input": "2025-08-11T10:14:28.193288Z",
     "iopub.status.busy": "2025-08-11T10:14:28.192935Z",
     "iopub.status.idle": "2025-08-11T10:14:28.206822Z",
     "shell.execute_reply": "2025-08-11T10:14:28.205965Z"
    },
    "papermill": {
     "duration": 0.025008,
     "end_time": "2025-08-11T10:14:28.208479",
     "exception": false,
     "start_time": "2025-08-11T10:14:28.183471",
     "status": "completed"
    },
    "tags": []
   },
   "outputs": [],
   "source": [
    "# Concat two data frames together \n",
    "\n",
    "fake[\"label\"] = 0  # 0 = Fake\n",
    "true[\"label\"] = 1  # 1 = Real\n",
    "\n",
    "df = pd.concat([fake, true], axis=0)\n"
   ]
  },
  {
   "cell_type": "code",
   "execution_count": 6,
   "id": "6dbce723",
   "metadata": {
    "execution": {
     "iopub.execute_input": "2025-08-11T10:14:28.219032Z",
     "iopub.status.busy": "2025-08-11T10:14:28.218732Z",
     "iopub.status.idle": "2025-08-11T10:14:28.241044Z",
     "shell.execute_reply": "2025-08-11T10:14:28.239978Z"
    },
    "papermill": {
     "duration": 0.02948,
     "end_time": "2025-08-11T10:14:28.242715",
     "exception": false,
     "start_time": "2025-08-11T10:14:28.213235",
     "status": "completed"
    },
    "tags": []
   },
   "outputs": [
    {
     "name": "stdout",
     "output_type": "stream",
     "text": [
      "title      0\n",
      "text       0\n",
      "subject    0\n",
      "date       0\n",
      "label      0\n",
      "dtype: int64\n"
     ]
    }
   ],
   "source": [
    "print(df.isnull().sum())\n"
   ]
  },
  {
   "cell_type": "markdown",
   "id": "10a670dd",
   "metadata": {
    "papermill": {
     "duration": 0.004402,
     "end_time": "2025-08-11T10:14:28.251951",
     "exception": false,
     "start_time": "2025-08-11T10:14:28.247549",
     "status": "completed"
    },
    "tags": []
   },
   "source": [
    "* There is no null value.That's what make us happy."
   ]
  },
  {
   "cell_type": "code",
   "execution_count": 7,
   "id": "c3fae085",
   "metadata": {
    "execution": {
     "iopub.execute_input": "2025-08-11T10:14:28.263048Z",
     "iopub.status.busy": "2025-08-11T10:14:28.262744Z",
     "iopub.status.idle": "2025-08-11T10:14:28.603275Z",
     "shell.execute_reply": "2025-08-11T10:14:28.602286Z"
    },
    "papermill": {
     "duration": 0.347431,
     "end_time": "2025-08-11T10:14:28.604855",
     "exception": false,
     "start_time": "2025-08-11T10:14:28.257424",
     "status": "completed"
    },
    "tags": []
   },
   "outputs": [
    {
     "name": "stderr",
     "output_type": "stream",
     "text": [
      "/usr/local/lib/python3.11/dist-packages/seaborn/_oldcore.py:1498: DeprecationWarning: is_categorical_dtype is deprecated and will be removed in a future version. Use isinstance(dtype, pd.CategoricalDtype) instead\n",
      "  if pd.api.types.is_categorical_dtype(vector):\n",
      "/usr/local/lib/python3.11/dist-packages/seaborn/_oldcore.py:1498: DeprecationWarning: is_categorical_dtype is deprecated and will be removed in a future version. Use isinstance(dtype, pd.CategoricalDtype) instead\n",
      "  if pd.api.types.is_categorical_dtype(vector):\n",
      "/usr/local/lib/python3.11/dist-packages/seaborn/_oldcore.py:1498: DeprecationWarning: is_categorical_dtype is deprecated and will be removed in a future version. Use isinstance(dtype, pd.CategoricalDtype) instead\n",
      "  if pd.api.types.is_categorical_dtype(vector):\n"
     ]
    },
    {
     "data": {
      "image/png": "[encoded data removed]",
      "text/plain": [
       "<Figure size 640x480 with 1 Axes>"
      ]
     },
     "metadata": {},
     "output_type": "display_data"
    }
   ],
   "source": [
    "sns.countplot(x=\"label\", data=df)\n",
    "plt.title(\"Class distribution (0=Fake, 1=True)\")\n",
    "plt.show()"
   ]
  },
  {
   "cell_type": "markdown",
   "id": "b0139699",
   "metadata": {
    "papermill": {
     "duration": 0.004877,
     "end_time": "2025-08-11T10:14:28.615031",
     "exception": false,
     "start_time": "2025-08-11T10:14:28.610154",
     "status": "completed"
    },
    "tags": []
   },
   "source": [
    "* As it's clear, fake and true label distributions are equal. That makes a any Ml model works properly"
   ]
  },
  {
   "cell_type": "markdown",
   "id": "503819f2",
   "metadata": {
    "papermill": {
     "duration": 0.004789,
     "end_time": "2025-08-11T10:14:28.624849",
     "exception": false,
     "start_time": "2025-08-11T10:14:28.620060",
     "status": "completed"
    },
    "tags": []
   },
   "source": [
    "# Preprocessing"
   ]
  },
  {
   "cell_type": "code",
   "execution_count": 8,
   "id": "af2b3aea",
   "metadata": {
    "execution": {
     "iopub.execute_input": "2025-08-11T10:14:28.636260Z",
     "iopub.status.busy": "2025-08-11T10:14:28.635914Z",
     "iopub.status.idle": "2025-08-11T10:14:29.650320Z",
     "shell.execute_reply": "2025-08-11T10:14:29.649259Z"
    },
    "papermill": {
     "duration": 1.022041,
     "end_time": "2025-08-11T10:14:29.651954",
     "exception": false,
     "start_time": "2025-08-11T10:14:28.629913",
     "status": "completed"
    },
    "tags": []
   },
   "outputs": [],
   "source": [
    "# add dependency\n",
    "import string\n",
    "import nltk\n",
    "from nltk.corpus import stopwords\n",
    "from nltk.stem import WordNetLemmatizer\n",
    "import re\n"
   ]
  },
  {
   "cell_type": "code",
   "execution_count": 9,
   "id": "e8244b12",
   "metadata": {
    "execution": {
     "iopub.execute_input": "2025-08-11T10:14:29.663941Z",
     "iopub.status.busy": "2025-08-11T10:14:29.663546Z",
     "iopub.status.idle": "2025-08-11T10:14:29.917265Z",
     "shell.execute_reply": "2025-08-11T10:14:29.916279Z"
    },
    "papermill": {
     "duration": 0.261871,
     "end_time": "2025-08-11T10:14:29.919079",
     "exception": false,
     "start_time": "2025-08-11T10:14:29.657208",
     "status": "completed"
    },
    "tags": []
   },
   "outputs": [
    {
     "name": "stderr",
     "output_type": "stream",
     "text": [
      "[nltk_data] Downloading package stopwords to /usr/share/nltk_data...\n",
      "[nltk_data]   Package stopwords is already up-to-date!\n",
      "[nltk_data] Downloading package wordnet to /usr/share/nltk_data...\n",
      "[nltk_data]   Package wordnet is already up-to-date!\n",
      "[nltk_data] Downloading package omw-1.4 to /usr/share/nltk_data...\n"
     ]
    },
    {
     "data": {
      "text/plain": [
       "True"
      ]
     },
     "execution_count": 9,
     "metadata": {},
     "output_type": "execute_result"
    }
   ],
   "source": [
    "# download resources\n",
    "nltk.download('stopwords')\n",
    "nltk.download('wordnet')\n",
    "nltk.download('omw-1.4')"
   ]
  },
  {
   "cell_type": "code",
   "execution_count": 10,
   "id": "764967f7",
   "metadata": {
    "execution": {
     "iopub.execute_input": "2025-08-11T10:14:29.930804Z",
     "iopub.status.busy": "2025-08-11T10:14:29.930396Z",
     "iopub.status.idle": "2025-08-11T10:14:37.434605Z",
     "shell.execute_reply": "2025-08-11T10:14:37.433620Z"
    },
    "papermill": {
     "duration": 7.512094,
     "end_time": "2025-08-11T10:14:37.436394",
     "exception": false,
     "start_time": "2025-08-11T10:14:29.924300",
     "status": "completed"
    },
    "tags": []
   },
   "outputs": [],
   "source": [
    "# uppercase to lowercase\n",
    "df[\"text\"] = df[\"text\"].str.lower()\n",
    "\n",
    "# deleting link and stuff XD\n",
    "df[\"text\"] = df[\"text\"].apply(lambda x: re.sub(r'http\\S+|www\\S+|https\\S+', '', x))  \n",
    "df[\"text\"] = df[\"text\"].apply(lambda x: re.sub(r'\\d+', '', x))  \n",
    "df[\"text\"] = df[\"text\"].apply(lambda x: x.translate(str.maketrans('', '', string.punctuation)))  "
   ]
  },
  {
   "cell_type": "code",
   "execution_count": 11,
   "id": "0cbe490b",
   "metadata": {
    "execution": {
     "iopub.execute_input": "2025-08-11T10:14:37.448972Z",
     "iopub.status.busy": "2025-08-11T10:14:37.448614Z",
     "iopub.status.idle": "2025-08-11T10:14:40.285851Z",
     "shell.execute_reply": "2025-08-11T10:14:40.284912Z"
    },
    "papermill": {
     "duration": 2.845871,
     "end_time": "2025-08-11T10:14:40.287588",
     "exception": false,
     "start_time": "2025-08-11T10:14:37.441717",
     "status": "completed"
    },
    "tags": []
   },
   "outputs": [],
   "source": [
    "# delete stopwords\n",
    "stop_words = set(stopwords.words('english'))\n",
    "df[\"text\"] = df[\"text\"].apply(lambda x: ' '.join([word for word in x.split() if word not in stop_words]))"
   ]
  },
  {
   "cell_type": "code",
   "execution_count": 12,
   "id": "2e9d694c",
   "metadata": {
    "execution": {
     "iopub.execute_input": "2025-08-11T10:14:40.302669Z",
     "iopub.status.busy": "2025-08-11T10:14:40.302297Z",
     "iopub.status.idle": "2025-08-11T10:15:26.474744Z",
     "shell.execute_reply": "2025-08-11T10:15:26.473740Z"
    },
    "papermill": {
     "duration": 46.184043,
     "end_time": "2025-08-11T10:15:26.476839",
     "exception": false,
     "start_time": "2025-08-11T10:14:40.292796",
     "status": "completed"
    },
    "tags": []
   },
   "outputs": [],
   "source": [
    "# Lemmatization\n",
    "lemmatizer = WordNetLemmatizer()\n",
    "df[\"text\"] = df[\"text\"].apply(lambda x: ' '.join([lemmatizer.lemmatize(word) for word in x.split()]))"
   ]
  },
  {
   "cell_type": "code",
   "execution_count": 13,
   "id": "38f19d4b",
   "metadata": {
    "execution": {
     "iopub.execute_input": "2025-08-11T10:15:26.489237Z",
     "iopub.status.busy": "2025-08-11T10:15:26.488873Z",
     "iopub.status.idle": "2025-08-11T10:15:26.496891Z",
     "shell.execute_reply": "2025-08-11T10:15:26.495785Z"
    },
    "papermill": {
     "duration": 0.016371,
     "end_time": "2025-08-11T10:15:26.498594",
     "exception": false,
     "start_time": "2025-08-11T10:15:26.482223",
     "status": "completed"
    },
    "tags": []
   },
   "outputs": [
    {
     "data": {
      "text/plain": [
       "0    donald trump wish american happy new year leav...\n",
       "1    house intelligence committee chairman devin nu...\n",
       "2    friday revealed former milwaukee sheriff david...\n",
       "3    christmas day donald trump announced would bac...\n",
       "4    pope francis used annual christmas day message...\n",
       "Name: text, dtype: object"
      ]
     },
     "execution_count": 13,
     "metadata": {},
     "output_type": "execute_result"
    }
   ],
   "source": [
    "df[\"text\"].head()\n"
   ]
  },
  {
   "cell_type": "markdown",
   "id": "b1d66071",
   "metadata": {
    "papermill": {
     "duration": 0.004989,
     "end_time": "2025-08-11T10:15:26.508962",
     "exception": false,
     "start_time": "2025-08-11T10:15:26.503973",
     "status": "completed"
    },
    "tags": []
   },
   "source": [
    "# Choosing Model"
   ]
  },
  {
   "cell_type": "markdown",
   "id": "17cd0f4b",
   "metadata": {
    "papermill": {
     "duration": 0.004841,
     "end_time": "2025-08-11T10:15:26.519242",
     "exception": false,
     "start_time": "2025-08-11T10:15:26.514401",
     "status": "completed"
    },
    "tags": []
   },
   "source": [
    "- In this section, I tried to examine different models and work on the winner one "
   ]
  },
  {
   "cell_type": "code",
   "execution_count": 14,
   "id": "e63b53a4",
   "metadata": {
    "execution": {
     "iopub.execute_input": "2025-08-11T10:15:26.530812Z",
     "iopub.status.busy": "2025-08-11T10:15:26.530502Z",
     "iopub.status.idle": "2025-08-11T10:24:24.202291Z",
     "shell.execute_reply": "2025-08-11T10:24:24.201078Z"
    },
    "papermill": {
     "duration": 537.685038,
     "end_time": "2025-08-11T10:24:24.209356",
     "exception": false,
     "start_time": "2025-08-11T10:15:26.524318",
     "status": "completed"
    },
    "tags": []
   },
   "outputs": [
    {
     "name": "stdout",
     "output_type": "stream",
     "text": [
      "Logistic Regression:               precision    recall  f1-score   support\n",
      "\n",
      "           0       0.99      0.99      0.99      4696\n",
      "           1       0.98      0.99      0.99      4284\n",
      "\n",
      "    accuracy                           0.99      8980\n",
      "   macro avg       0.99      0.99      0.99      8980\n",
      "weighted avg       0.99      0.99      0.99      8980\n",
      "\n",
      "Linear SVC:               precision    recall  f1-score   support\n",
      "\n",
      "           0       1.00      1.00      1.00      4696\n",
      "           1       1.00      1.00      1.00      4284\n",
      "\n",
      "    accuracy                           1.00      8980\n",
      "   macro avg       1.00      1.00      1.00      8980\n",
      "weighted avg       1.00      1.00      1.00      8980\n",
      "\n",
      "Multinomial NB:               precision    recall  f1-score   support\n",
      "\n",
      "           0       0.97      0.94      0.95      4696\n",
      "           1       0.93      0.97      0.95      4284\n",
      "\n",
      "    accuracy                           0.95      8980\n",
      "   macro avg       0.95      0.95      0.95      8980\n",
      "weighted avg       0.95      0.95      0.95      8980\n",
      "\n",
      "Random Forest:               precision    recall  f1-score   support\n",
      "\n",
      "           0       1.00      0.99      0.99      4696\n",
      "           1       0.99      1.00      0.99      4284\n",
      "\n",
      "    accuracy                           0.99      8980\n",
      "   macro avg       0.99      0.99      0.99      8980\n",
      "weighted avg       0.99      0.99      0.99      8980\n",
      "\n",
      "Gradient Boosting:               precision    recall  f1-score   support\n",
      "\n",
      "           0       1.00      0.99      1.00      4696\n",
      "           1       0.99      1.00      1.00      4284\n",
      "\n",
      "    accuracy                           1.00      8980\n",
      "   macro avg       1.00      1.00      1.00      8980\n",
      "weighted avg       1.00      1.00      1.00      8980\n",
      "\n",
      "Model Comparison:\n",
      "                 Model  Accuracy\n",
      "4    Gradient Boosting  0.996437\n",
      "1           Linear SVC  0.996325\n",
      "3        Random Forest  0.993096\n",
      "0  Logistic Regression  0.987862\n",
      "2       Multinomial NB  0.952450\n"
     ]
    }
   ],
   "source": [
    "from sklearn.model_selection import train_test_split\n",
    "from sklearn.feature_extraction.text import TfidfVectorizer\n",
    "from sklearn.linear_model import LogisticRegression\n",
    "from sklearn.naive_bayes import MultinomialNB\n",
    "from sklearn.svm import LinearSVC\n",
    "from sklearn.ensemble import RandomForestClassifier, GradientBoostingClassifier\n",
    "from sklearn.metrics import accuracy_score, classification_report\n",
    "import warnings\n",
    "warnings.filterwarnings(\"ignore\")\n",
    "\n",
    "# We have to input 'text' as the only input to the models --> prevent data leakage \n",
    "X_train, X_test, y_train, y_test = train_test_split(\n",
    "    df[\"text\"], df[\"label\"], test_size=0.2, random_state=42, stratify=df[\"label\"]\n",
    ")\n",
    "\n",
    "vectorizer = TfidfVectorizer(max_df=0.7)\n",
    "tfidf_train = vectorizer.fit_transform(X_train)\n",
    "tfidf_test = vectorizer.transform(X_test)\n",
    "\n",
    "models = {\n",
    "    \"Logistic Regression\": LogisticRegression(max_iter=200),\n",
    "    \"Linear SVC\": LinearSVC(),\n",
    "    \"Multinomial NB\": MultinomialNB(),\n",
    "    \"Random Forest\": RandomForestClassifier(n_estimators=200, random_state=42),\n",
    "    \"Gradient Boosting\": GradientBoostingClassifier(random_state=42)\n",
    "}\n",
    "\n",
    "results = []\n",
    "\n",
    "for name, model in models.items():\n",
    "    model.fit(tfidf_train, y_train)\n",
    "    y_pred = model.predict(tfidf_test)\n",
    "    acc = accuracy_score(y_test, y_pred)\n",
    "    results.append({\"Model\": name, \"Accuracy\": acc})\n",
    "    print(f\"{name}:\", classification_report(y_test, y_pred))\n",
    "\n",
    "results_df = pd.DataFrame(results).sort_values(by=\"Accuracy\", ascending=False)\n",
    "print(\"Model Comparison:\")\n",
    "print(results_df)\n"
   ]
  },
  {
   "cell_type": "markdown",
   "id": "399883c0",
   "metadata": {
    "papermill": {
     "duration": 0.006132,
     "end_time": "2025-08-11T10:24:24.221050",
     "exception": false,
     "start_time": "2025-08-11T10:24:24.214918",
     "status": "completed"
    },
    "tags": []
   },
   "source": [
    "# Testing Data Leakage"
   ]
  },
  {
   "cell_type": "markdown",
   "id": "dde73a10",
   "metadata": {
    "papermill": {
     "duration": 0.005397,
     "end_time": "2025-08-11T10:24:24.232143",
     "exception": false,
     "start_time": "2025-08-11T10:24:24.226746",
     "status": "completed"
    },
    "tags": []
   },
   "source": [
    "- If in text, there are any specific words for each fake or true news,there is chance of data leakage"
   ]
  },
  {
   "cell_type": "code",
   "execution_count": 15,
   "id": "2b07a311",
   "metadata": {
    "execution": {
     "iopub.execute_input": "2025-08-11T10:24:24.245126Z",
     "iopub.status.busy": "2025-08-11T10:24:24.244796Z",
     "iopub.status.idle": "2025-08-11T10:24:27.194617Z",
     "shell.execute_reply": "2025-08-11T10:24:27.193601Z"
    },
    "papermill": {
     "duration": 2.958157,
     "end_time": "2025-08-11T10:24:27.196267",
     "exception": false,
     "start_time": "2025-08-11T10:24:24.238110",
     "status": "completed"
    },
    "tags": []
   },
   "outputs": [
    {
     "name": "stdout",
     "output_type": "stream",
     "text": [
      "Fake sample words: ['pictwittercomezxusrcsl', 'belowabdullahi', 'answersnow', 'saidralph', 'politicsclick', 'milleraccording', 'extrovert', 'stengel', 'claimswell', 'internetit', 'embarrassthe', 'timesdane', 'steelwe', 'waystrump', 'interestcandidate', 'ftr', 'clearby', 'lookeven', 'oswaldciamafialinked', 'saturdaytrump']\n",
      "Real sample words : ['“haven’t', 'secondleastpopular', 'setree', 'imponderable', 'coalmine', 'africom', 'pouilly', 'molcaxac', '“broken', 'responsiblebut', 'existed”', 'doesburg', 'offbounds', 'roch', 'janos', 'scrubby', '“responsible', '“traditional', 'attitudes”', 'nastywomen']\n"
     ]
    }
   ],
   "source": [
    "from collections import Counter\n",
    "\n",
    "fake_words = Counter(\" \".join(df[df[\"label\"]==0][\"text\"]).split())\n",
    "real_words = Counter(\" \".join(df[df[\"label\"]==1][\"text\"]).split())\n",
    "\n",
    "exclusive_fake = set(fake_words) - set(real_words)\n",
    "exclusive_real = set(real_words) - set(fake_words)\n",
    "\n",
    "print(\"Fake sample words:\", list(exclusive_fake)[:20])\n",
    "print(\"Real sample words :\", list(exclusive_real)[:20])\n",
    "\n",
    "\n",
    "\n"
   ]
  },
  {
   "cell_type": "markdown",
   "id": "52792564",
   "metadata": {
    "papermill": {
     "duration": 0.005189,
     "end_time": "2025-08-11T10:24:27.207164",
     "exception": false,
     "start_time": "2025-08-11T10:24:27.201975",
     "status": "completed"
    },
    "tags": []
   },
   "source": [
    "- model memorize duplicated news"
   ]
  },
  {
   "cell_type": "code",
   "execution_count": 16,
   "id": "d264e55f",
   "metadata": {
    "execution": {
     "iopub.execute_input": "2025-08-11T10:24:27.219704Z",
     "iopub.status.busy": "2025-08-11T10:24:27.219371Z",
     "iopub.status.idle": "2025-08-11T10:24:27.282711Z",
     "shell.execute_reply": "2025-08-11T10:24:27.281721Z"
    },
    "papermill": {
     "duration": 0.071646,
     "end_time": "2025-08-11T10:24:27.284287",
     "exception": false,
     "start_time": "2025-08-11T10:24:27.212641",
     "status": "completed"
    },
    "tags": []
   },
   "outputs": [
    {
     "name": "stdout",
     "output_type": "stream",
     "text": [
      " dup news : 11426\n"
     ]
    }
   ],
   "source": [
    "duplicates = df.duplicated(subset=[\"text\"], keep=False)\n",
    "print(\" dup news :\", duplicates.sum())\n"
   ]
  }
 ],
 "metadata": {
  "kaggle": {
   "accelerator": "none",
   "dataSources": [
    {
     "datasetId": 4831777,
     "sourceId": 8165591,
     "sourceType": "datasetVersion"
    }
   ],
   "dockerImageVersionId": 31089,
   "isGpuEnabled": false,
   "isInternetEnabled": true,
   "language": "python",
   "sourceType": "notebook"
  },
  "kernelspec": {
   "display_name": "Python 3",
   "language": "python",
   "name": "python3"
  },
  "language_info": {
   "codemirror_mode": {
    "name": "ipython",
    "version": 3
   },
   "file_extension": ".py",
   "mimetype": "text/x-python",
   "name": "python",
   "nbconvert_exporter": "python",
   "pygments_lexer": "ipython3",
   "version": "3.11.13"
  },
  "papermill": {
   "default_parameters": {},
   "duration": 612.831861,
   "end_time": "2025-08-11T10:24:28.613176",
   "environment_variables": {},
   "exception": null,
   "input_path": "__notebook__.ipynb",
   "output_path": "__notebook__.ipynb",
   "parameters": {},
   "start_time": "2025-08-11T10:14:15.781315",
   "version": "2.6.0"
  }
 },
 "nbformat": 4,
 "nbformat_minor": 5
}
