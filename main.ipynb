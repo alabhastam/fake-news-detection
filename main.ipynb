{
 "cells": [
  {
   "cell_type": "markdown",
   "id": "4c15d70b",
   "metadata": {
    "papermill": {
     "duration": 0.008745,
     "end_time": "2025-08-11T11:22:35.668722",
     "exception": false,
     "start_time": "2025-08-11T11:22:35.659977",
     "status": "completed"
    },
    "tags": []
   },
   "source": [
    "# Loading Data and Glance"
   ]
  },
  {
   "cell_type": "code",
   "execution_count": 1,
   "id": "2e1c6e3c",
   "metadata": {
    "execution": {
     "iopub.execute_input": "2025-08-11T11:22:35.687192Z",
     "iopub.status.busy": "2025-08-11T11:22:35.684549Z",
     "iopub.status.idle": "2025-08-11T11:22:45.869641Z",
     "shell.execute_reply": "2025-08-11T11:22:45.868206Z"
    },
    "papermill": {
     "duration": 10.195708,
     "end_time": "2025-08-11T11:22:45.871728",
     "exception": false,
     "start_time": "2025-08-11T11:22:35.676020",
     "status": "completed"
    },
    "tags": []
   },
   "outputs": [],
   "source": [
    "import pandas as pd\n",
    "import matplotlib.pyplot as plt\n",
    "import seaborn as sns\n",
    "import warnings\n",
    "warnings.filterwarnings('always')\n",
    "\n",
    "fake = pd.read_csv(\"/kaggle/input/fake-and-real-news-dataset/Fake.csv\")\n",
    "true = pd.read_csv(\"/kaggle/input/fake-and-real-news-dataset/True.csv\")"
   ]
  },
  {
   "cell_type": "code",
   "execution_count": 2,
   "id": "ecec3a30",
   "metadata": {
    "execution": {
     "iopub.execute_input": "2025-08-11T11:22:45.888732Z",
     "iopub.status.busy": "2025-08-11T11:22:45.887585Z",
     "iopub.status.idle": "2025-08-11T11:22:45.896117Z",
     "shell.execute_reply": "2025-08-11T11:22:45.894444Z"
    },
    "papermill": {
     "duration": 0.018978,
     "end_time": "2025-08-11T11:22:45.898469",
     "exception": false,
     "start_time": "2025-08-11T11:22:45.879491",
     "status": "completed"
    },
    "tags": []
   },
   "outputs": [
    {
     "name": "stdout",
     "output_type": "stream",
     "text": [
      "Fake News Dataset Shape: (23481, 4)\n",
      "True News Dataset Shape: (21417, 4)\n"
     ]
    }
   ],
   "source": [
    "print(\"Fake News Dataset Shape:\", fake.shape)\n",
    "print(\"True News Dataset Shape:\", true.shape)\n"
   ]
  },
  {
   "cell_type": "code",
   "execution_count": 3,
   "id": "cf5b0219",
   "metadata": {
    "execution": {
     "iopub.execute_input": "2025-08-11T11:22:45.916089Z",
     "iopub.status.busy": "2025-08-11T11:22:45.914839Z",
     "iopub.status.idle": "2025-08-11T11:22:45.953930Z",
     "shell.execute_reply": "2025-08-11T11:22:45.952404Z"
    },
    "papermill": {
     "duration": 0.04986,
     "end_time": "2025-08-11T11:22:45.956496",
     "exception": false,
     "start_time": "2025-08-11T11:22:45.906636",
     "status": "completed"
    },
    "tags": []
   },
   "outputs": [
    {
     "data": {
      "text/html": [
       "<div>\n",
       "<style scoped>\n",
       "    .dataframe tbody tr th:only-of-type {\n",
       "        vertical-align: middle;\n",
       "    }\n",
       "\n",
       "    .dataframe tbody tr th {\n",
       "        vertical-align: top;\n",
       "    }\n",
       "\n",
       "    .dataframe thead th {\n",
       "        text-align: right;\n",
       "    }\n",
       "</style>\n",
       "<table border=\"1\" class=\"dataframe\">\n",
       "  <thead>\n",
       "    <tr style=\"text-align: right;\">\n",
       "      <th></th>\n",
       "      <th>title</th>\n",
       "      <th>text</th>\n",
       "      <th>subject</th>\n",
       "      <th>date</th>\n",
       "    </tr>\n",
       "  </thead>\n",
       "  <tbody>\n",
       "    <tr>\n",
       "      <th>0</th>\n",
       "      <td>Donald Trump Sends Out Embarrassing New Year’...</td>\n",
       "      <td>Donald Trump just couldn t wish all Americans ...</td>\n",
       "      <td>News</td>\n",
       "      <td>December 31, 2017</td>\n",
       "    </tr>\n",
       "    <tr>\n",
       "      <th>1</th>\n",
       "      <td>Drunk Bragging Trump Staffer Started Russian ...</td>\n",
       "      <td>House Intelligence Committee Chairman Devin Nu...</td>\n",
       "      <td>News</td>\n",
       "      <td>December 31, 2017</td>\n",
       "    </tr>\n",
       "    <tr>\n",
       "      <th>2</th>\n",
       "      <td>Sheriff David Clarke Becomes An Internet Joke...</td>\n",
       "      <td>On Friday, it was revealed that former Milwauk...</td>\n",
       "      <td>News</td>\n",
       "      <td>December 30, 2017</td>\n",
       "    </tr>\n",
       "    <tr>\n",
       "      <th>3</th>\n",
       "      <td>Trump Is So Obsessed He Even Has Obama’s Name...</td>\n",
       "      <td>On Christmas day, Donald Trump announced that ...</td>\n",
       "      <td>News</td>\n",
       "      <td>December 29, 2017</td>\n",
       "    </tr>\n",
       "    <tr>\n",
       "      <th>4</th>\n",
       "      <td>Pope Francis Just Called Out Donald Trump Dur...</td>\n",
       "      <td>Pope Francis used his annual Christmas Day mes...</td>\n",
       "      <td>News</td>\n",
       "      <td>December 25, 2017</td>\n",
       "    </tr>\n",
       "  </tbody>\n",
       "</table>\n",
       "</div>"
      ],
      "text/plain": [
       "                                               title  \\\n",
       "0   Donald Trump Sends Out Embarrassing New Year’...   \n",
       "1   Drunk Bragging Trump Staffer Started Russian ...   \n",
       "2   Sheriff David Clarke Becomes An Internet Joke...   \n",
       "3   Trump Is So Obsessed He Even Has Obama’s Name...   \n",
       "4   Pope Francis Just Called Out Donald Trump Dur...   \n",
       "\n",
       "                                                text subject  \\\n",
       "0  Donald Trump just couldn t wish all Americans ...    News   \n",
       "1  House Intelligence Committee Chairman Devin Nu...    News   \n",
       "2  On Friday, it was revealed that former Milwauk...    News   \n",
       "3  On Christmas day, Donald Trump announced that ...    News   \n",
       "4  Pope Francis used his annual Christmas Day mes...    News   \n",
       "\n",
       "                date  \n",
       "0  December 31, 2017  \n",
       "1  December 31, 2017  \n",
       "2  December 30, 2017  \n",
       "3  December 29, 2017  \n",
       "4  December 25, 2017  "
      ]
     },
     "execution_count": 3,
     "metadata": {},
     "output_type": "execute_result"
    }
   ],
   "source": [
    "fake.head()"
   ]
  },
  {
   "cell_type": "code",
   "execution_count": 4,
   "id": "6b4d8102",
   "metadata": {
    "execution": {
     "iopub.execute_input": "2025-08-11T11:22:45.977828Z",
     "iopub.status.busy": "2025-08-11T11:22:45.976129Z",
     "iopub.status.idle": "2025-08-11T11:22:45.990147Z",
     "shell.execute_reply": "2025-08-11T11:22:45.988573Z"
    },
    "papermill": {
     "duration": 0.027752,
     "end_time": "2025-08-11T11:22:45.992434",
     "exception": false,
     "start_time": "2025-08-11T11:22:45.964682",
     "status": "completed"
    },
    "tags": []
   },
   "outputs": [
    {
     "data": {
      "text/html": [
       "<div>\n",
       "<style scoped>\n",
       "    .dataframe tbody tr th:only-of-type {\n",
       "        vertical-align: middle;\n",
       "    }\n",
       "\n",
       "    .dataframe tbody tr th {\n",
       "        vertical-align: top;\n",
       "    }\n",
       "\n",
       "    .dataframe thead th {\n",
       "        text-align: right;\n",
       "    }\n",
       "</style>\n",
       "<table border=\"1\" class=\"dataframe\">\n",
       "  <thead>\n",
       "    <tr style=\"text-align: right;\">\n",
       "      <th></th>\n",
       "      <th>title</th>\n",
       "      <th>text</th>\n",
       "      <th>subject</th>\n",
       "      <th>date</th>\n",
       "    </tr>\n",
       "  </thead>\n",
       "  <tbody>\n",
       "    <tr>\n",
       "      <th>0</th>\n",
       "      <td>As U.S. budget fight looms, Republicans flip t...</td>\n",
       "      <td>WASHINGTON (Reuters) - The head of a conservat...</td>\n",
       "      <td>politicsNews</td>\n",
       "      <td>December 31, 2017</td>\n",
       "    </tr>\n",
       "    <tr>\n",
       "      <th>1</th>\n",
       "      <td>U.S. military to accept transgender recruits o...</td>\n",
       "      <td>WASHINGTON (Reuters) - Transgender people will...</td>\n",
       "      <td>politicsNews</td>\n",
       "      <td>December 29, 2017</td>\n",
       "    </tr>\n",
       "    <tr>\n",
       "      <th>2</th>\n",
       "      <td>Senior U.S. Republican senator: 'Let Mr. Muell...</td>\n",
       "      <td>WASHINGTON (Reuters) - The special counsel inv...</td>\n",
       "      <td>politicsNews</td>\n",
       "      <td>December 31, 2017</td>\n",
       "    </tr>\n",
       "    <tr>\n",
       "      <th>3</th>\n",
       "      <td>FBI Russia probe helped by Australian diplomat...</td>\n",
       "      <td>WASHINGTON (Reuters) - Trump campaign adviser ...</td>\n",
       "      <td>politicsNews</td>\n",
       "      <td>December 30, 2017</td>\n",
       "    </tr>\n",
       "    <tr>\n",
       "      <th>4</th>\n",
       "      <td>Trump wants Postal Service to charge 'much mor...</td>\n",
       "      <td>SEATTLE/WASHINGTON (Reuters) - President Donal...</td>\n",
       "      <td>politicsNews</td>\n",
       "      <td>December 29, 2017</td>\n",
       "    </tr>\n",
       "  </tbody>\n",
       "</table>\n",
       "</div>"
      ],
      "text/plain": [
       "                                               title  \\\n",
       "0  As U.S. budget fight looms, Republicans flip t...   \n",
       "1  U.S. military to accept transgender recruits o...   \n",
       "2  Senior U.S. Republican senator: 'Let Mr. Muell...   \n",
       "3  FBI Russia probe helped by Australian diplomat...   \n",
       "4  Trump wants Postal Service to charge 'much mor...   \n",
       "\n",
       "                                                text       subject  \\\n",
       "0  WASHINGTON (Reuters) - The head of a conservat...  politicsNews   \n",
       "1  WASHINGTON (Reuters) - Transgender people will...  politicsNews   \n",
       "2  WASHINGTON (Reuters) - The special counsel inv...  politicsNews   \n",
       "3  WASHINGTON (Reuters) - Trump campaign adviser ...  politicsNews   \n",
       "4  SEATTLE/WASHINGTON (Reuters) - President Donal...  politicsNews   \n",
       "\n",
       "                 date  \n",
       "0  December 31, 2017   \n",
       "1  December 29, 2017   \n",
       "2  December 31, 2017   \n",
       "3  December 30, 2017   \n",
       "4  December 29, 2017   "
      ]
     },
     "execution_count": 4,
     "metadata": {},
     "output_type": "execute_result"
    }
   ],
   "source": [
    "true.head()"
   ]
  },
  {
   "cell_type": "code",
   "execution_count": 5,
   "id": "71f4dede",
   "metadata": {
    "execution": {
     "iopub.execute_input": "2025-08-11T11:22:46.012901Z",
     "iopub.status.busy": "2025-08-11T11:22:46.012483Z",
     "iopub.status.idle": "2025-08-11T11:22:46.030932Z",
     "shell.execute_reply": "2025-08-11T11:22:46.029292Z"
    },
    "papermill": {
     "duration": 0.031778,
     "end_time": "2025-08-11T11:22:46.033748",
     "exception": false,
     "start_time": "2025-08-11T11:22:46.001970",
     "status": "completed"
    },
    "tags": []
   },
   "outputs": [],
   "source": [
    "# Concat two data frames together \n",
    "\n",
    "fake[\"label\"] = 0  # 0 = Fake\n",
    "true[\"label\"] = 1  # 1 = Real\n",
    "\n",
    "df = pd.concat([fake, true], axis=0)\n"
   ]
  },
  {
   "cell_type": "code",
   "execution_count": 6,
   "id": "992ef25c",
   "metadata": {
    "execution": {
     "iopub.execute_input": "2025-08-11T11:22:46.052507Z",
     "iopub.status.busy": "2025-08-11T11:22:46.051834Z",
     "iopub.status.idle": "2025-08-11T11:22:46.077645Z",
     "shell.execute_reply": "2025-08-11T11:22:46.076307Z"
    },
    "papermill": {
     "duration": 0.036618,
     "end_time": "2025-08-11T11:22:46.079917",
     "exception": false,
     "start_time": "2025-08-11T11:22:46.043299",
     "status": "completed"
    },
    "tags": []
   },
   "outputs": [
    {
     "name": "stdout",
     "output_type": "stream",
     "text": [
      "title      0\n",
      "text       0\n",
      "subject    0\n",
      "date       0\n",
      "label      0\n",
      "dtype: int64\n"
     ]
    }
   ],
   "source": [
    "print(df.isnull().sum())\n"
   ]
  },
  {
   "cell_type": "markdown",
   "id": "0c433e38",
   "metadata": {
    "papermill": {
     "duration": 0.007226,
     "end_time": "2025-08-11T11:22:46.094893",
     "exception": false,
     "start_time": "2025-08-11T11:22:46.087667",
     "status": "completed"
    },
    "tags": []
   },
   "source": [
    "* There is no null value.That's what make us happy."
   ]
  },
  {
   "cell_type": "code",
   "execution_count": 7,
   "id": "64d22f6c",
   "metadata": {
    "execution": {
     "iopub.execute_input": "2025-08-11T11:22:46.112407Z",
     "iopub.status.busy": "2025-08-11T11:22:46.112013Z",
     "iopub.status.idle": "2025-08-11T11:22:46.442285Z",
     "shell.execute_reply": "2025-08-11T11:22:46.440170Z"
    },
    "papermill": {
     "duration": 0.342622,
     "end_time": "2025-08-11T11:22:46.445046",
     "exception": false,
     "start_time": "2025-08-11T11:22:46.102424",
     "status": "completed"
    },
    "tags": []
   },
   "outputs": [
    {
     "name": "stderr",
     "output_type": "stream",
     "text": [
      "/usr/local/lib/python3.11/dist-packages/seaborn/_oldcore.py:1498: DeprecationWarning: is_categorical_dtype is deprecated and will be removed in a future version. Use isinstance(dtype, pd.CategoricalDtype) instead\n",
      "  if pd.api.types.is_categorical_dtype(vector):\n",
      "/usr/local/lib/python3.11/dist-packages/seaborn/_oldcore.py:1498: DeprecationWarning: is_categorical_dtype is deprecated and will be removed in a future version. Use isinstance(dtype, pd.CategoricalDtype) instead\n",
      "  if pd.api.types.is_categorical_dtype(vector):\n",
      "/usr/local/lib/python3.11/dist-packages/seaborn/_oldcore.py:1498: DeprecationWarning: is_categorical_dtype is deprecated and will be removed in a future version. Use isinstance(dtype, pd.CategoricalDtype) instead\n",
      "  if pd.api.types.is_categorical_dtype(vector):\n"
     ]
    },
    {
     "data": {
      "image/png": "[encoded data removed]",
      "text/plain": [
       "<Figure size 640x480 with 1 Axes>"
      ]
     },
     "metadata": {},
     "output_type": "display_data"
    }
   ],
   "source": [
    "sns.countplot(x=\"label\", data=df)\n",
    "plt.title(\"Class distribution (0=Fake, 1=True)\")\n",
    "plt.show()"
   ]
  },
  {
   "cell_type": "markdown",
   "id": "a5576b94",
   "metadata": {
    "papermill": {
     "duration": 0.009423,
     "end_time": "2025-08-11T11:22:46.462763",
     "exception": false,
     "start_time": "2025-08-11T11:22:46.453340",
     "status": "completed"
    },
    "tags": []
   },
   "source": [
    "* As it's clear, fake and true label distributions are equal. That makes a any Ml model works properly"
   ]
  },
  {
   "cell_type": "markdown",
   "id": "15599dc6",
   "metadata": {
    "papermill": {
     "duration": 0.007882,
     "end_time": "2025-08-11T11:22:46.479096",
     "exception": false,
     "start_time": "2025-08-11T11:22:46.471214",
     "status": "completed"
    },
    "tags": []
   },
   "source": [
    "# Preprocessing"
   ]
  },
  {
   "cell_type": "code",
   "execution_count": 8,
   "id": "550d650f",
   "metadata": {
    "execution": {
     "iopub.execute_input": "2025-08-11T11:22:46.499982Z",
     "iopub.status.busy": "2025-08-11T11:22:46.498790Z",
     "iopub.status.idle": "2025-08-11T11:22:48.261048Z",
     "shell.execute_reply": "2025-08-11T11:22:48.259507Z"
    },
    "papermill": {
     "duration": 1.774496,
     "end_time": "2025-08-11T11:22:48.263858",
     "exception": false,
     "start_time": "2025-08-11T11:22:46.489362",
     "status": "completed"
    },
    "tags": []
   },
   "outputs": [],
   "source": [
    "# add dependency\n",
    "import string\n",
    "import nltk\n",
    "from nltk.corpus import stopwords\n",
    "from nltk.stem import WordNetLemmatizer\n",
    "import re\n"
   ]
  },
  {
   "cell_type": "code",
   "execution_count": 9,
   "id": "f67c9011",
   "metadata": {
    "execution": {
     "iopub.execute_input": "2025-08-11T11:22:48.285654Z",
     "iopub.status.busy": "2025-08-11T11:22:48.285133Z",
     "iopub.status.idle": "2025-08-11T11:22:48.713391Z",
     "shell.execute_reply": "2025-08-11T11:22:48.711897Z"
    },
    "papermill": {
     "duration": 0.443037,
     "end_time": "2025-08-11T11:22:48.716340",
     "exception": false,
     "start_time": "2025-08-11T11:22:48.273303",
     "status": "completed"
    },
    "tags": []
   },
   "outputs": [
    {
     "name": "stderr",
     "output_type": "stream",
     "text": [
      "[nltk_data] Downloading package stopwords to /usr/share/nltk_data...\n",
      "[nltk_data]   Package stopwords is already up-to-date!\n",
      "[nltk_data] Downloading package wordnet to /usr/share/nltk_data...\n",
      "[nltk_data]   Package wordnet is already up-to-date!\n",
      "[nltk_data] Downloading package omw-1.4 to /usr/share/nltk_data...\n"
     ]
    },
    {
     "data": {
      "text/plain": [
       "True"
      ]
     },
     "execution_count": 9,
     "metadata": {},
     "output_type": "execute_result"
    }
   ],
   "source": [
    "# download resources\n",
    "nltk.download('stopwords')\n",
    "nltk.download('wordnet')\n",
    "nltk.download('omw-1.4')"
   ]
  },
  {
   "cell_type": "code",
   "execution_count": 10,
   "id": "6ef70bec",
   "metadata": {
    "execution": {
     "iopub.execute_input": "2025-08-11T11:22:48.746752Z",
     "iopub.status.busy": "2025-08-11T11:22:48.746364Z",
     "iopub.status.idle": "2025-08-11T11:22:57.081285Z",
     "shell.execute_reply": "2025-08-11T11:22:57.080151Z"
    },
    "papermill": {
     "duration": 8.354465,
     "end_time": "2025-08-11T11:22:57.083355",
     "exception": false,
     "start_time": "2025-08-11T11:22:48.728890",
     "status": "completed"
    },
    "tags": []
   },
   "outputs": [],
   "source": [
    "# uppercase to lowercase\n",
    "df[\"text\"] = df[\"text\"].str.lower()\n",
    "\n",
    "# deleting link and stuff XD\n",
    "df[\"text\"] = df[\"text\"].apply(lambda x: re.sub(r'http\\S+|www\\S+|https\\S+', '', x))  \n",
    "df[\"text\"] = df[\"text\"].apply(lambda x: re.sub(r'\\d+', '', x))  \n",
    "df[\"text\"] = df[\"text\"].apply(lambda x: x.translate(str.maketrans('', '', string.punctuation)))  "
   ]
  },
  {
   "cell_type": "code",
   "execution_count": 11,
   "id": "5aca8ccd",
   "metadata": {
    "execution": {
     "iopub.execute_input": "2025-08-11T11:22:57.104116Z",
     "iopub.status.busy": "2025-08-11T11:22:57.102896Z",
     "iopub.status.idle": "2025-08-11T11:23:00.642499Z",
     "shell.execute_reply": "2025-08-11T11:23:00.640147Z"
    },
    "papermill": {
     "duration": 3.552293,
     "end_time": "2025-08-11T11:23:00.644608",
     "exception": false,
     "start_time": "2025-08-11T11:22:57.092315",
     "status": "completed"
    },
    "tags": []
   },
   "outputs": [],
   "source": [
    "# delete stopwords\n",
    "stop_words = set(stopwords.words('english'))\n",
    "df[\"text\"] = df[\"text\"].apply(lambda x: ' '.join([word for word in x.split() if word not in stop_words]))"
   ]
  },
  {
   "cell_type": "code",
   "execution_count": 12,
   "id": "461dcd68",
   "metadata": {
    "execution": {
     "iopub.execute_input": "2025-08-11T11:23:00.667819Z",
     "iopub.status.busy": "2025-08-11T11:23:00.667410Z",
     "iopub.status.idle": "2025-08-11T11:24:00.825080Z",
     "shell.execute_reply": "2025-08-11T11:24:00.823686Z"
    },
    "papermill": {
     "duration": 60.174278,
     "end_time": "2025-08-11T11:24:00.827492",
     "exception": false,
     "start_time": "2025-08-11T11:23:00.653214",
     "status": "completed"
    },
    "tags": []
   },
   "outputs": [],
   "source": [
    "# Lemmatization\n",
    "lemmatizer = WordNetLemmatizer()\n",
    "df[\"text\"] = df[\"text\"].apply(lambda x: ' '.join([lemmatizer.lemmatize(word) for word in x.split()]))"
   ]
  },
  {
   "cell_type": "code",
   "execution_count": 13,
   "id": "160e3cff",
   "metadata": {
    "execution": {
     "iopub.execute_input": "2025-08-11T11:24:00.849742Z",
     "iopub.status.busy": "2025-08-11T11:24:00.848797Z",
     "iopub.status.idle": "2025-08-11T11:24:00.859478Z",
     "shell.execute_reply": "2025-08-11T11:24:00.858391Z"
    },
    "papermill": {
     "duration": 0.024377,
     "end_time": "2025-08-11T11:24:00.861484",
     "exception": false,
     "start_time": "2025-08-11T11:24:00.837107",
     "status": "completed"
    },
    "tags": []
   },
   "outputs": [
    {
     "data": {
      "text/plain": [
       "0    donald trump wish american happy new year leav...\n",
       "1    house intelligence committee chairman devin nu...\n",
       "2    friday revealed former milwaukee sheriff david...\n",
       "3    christmas day donald trump announced would bac...\n",
       "4    pope francis used annual christmas day message...\n",
       "Name: text, dtype: object"
      ]
     },
     "execution_count": 13,
     "metadata": {},
     "output_type": "execute_result"
    }
   ],
   "source": [
    "df[\"text\"].head()\n"
   ]
  },
  {
   "cell_type": "markdown",
   "id": "29d7b4fb",
   "metadata": {
    "papermill": {
     "duration": 0.007751,
     "end_time": "2025-08-11T11:24:00.877340",
     "exception": false,
     "start_time": "2025-08-11T11:24:00.869589",
     "status": "completed"
    },
    "tags": []
   },
   "source": [
    "# Choosing Model"
   ]
  },
  {
   "cell_type": "markdown",
   "id": "5b5eeda0",
   "metadata": {
    "papermill": {
     "duration": 0.008317,
     "end_time": "2025-08-11T11:24:00.893455",
     "exception": false,
     "start_time": "2025-08-11T11:24:00.885138",
     "status": "completed"
    },
    "tags": []
   },
   "source": [
    "- In this section, I tried to examine different models and work on the winner one "
   ]
  },
  {
   "cell_type": "code",
   "execution_count": 14,
   "id": "3ef14975",
   "metadata": {
    "execution": {
     "iopub.execute_input": "2025-08-11T11:24:00.913919Z",
     "iopub.status.busy": "2025-08-11T11:24:00.913049Z",
     "iopub.status.idle": "2025-08-11T11:35:41.191616Z",
     "shell.execute_reply": "2025-08-11T11:35:41.190325Z"
    },
    "papermill": {
     "duration": 700.299112,
     "end_time": "2025-08-11T11:35:41.201775",
     "exception": false,
     "start_time": "2025-08-11T11:24:00.902663",
     "status": "completed"
    },
    "tags": []
   },
   "outputs": [
    {
     "name": "stdout",
     "output_type": "stream",
     "text": [
      "Logistic Regression:               precision    recall  f1-score   support\n",
      "\n",
      "           0       0.99      0.99      0.99      4696\n",
      "           1       0.98      0.99      0.99      4284\n",
      "\n",
      "    accuracy                           0.99      8980\n",
      "   macro avg       0.99      0.99      0.99      8980\n",
      "weighted avg       0.99      0.99      0.99      8980\n",
      "\n",
      "Linear SVC:               precision    recall  f1-score   support\n",
      "\n",
      "           0       1.00      1.00      1.00      4696\n",
      "           1       1.00      1.00      1.00      4284\n",
      "\n",
      "    accuracy                           1.00      8980\n",
      "   macro avg       1.00      1.00      1.00      8980\n",
      "weighted avg       1.00      1.00      1.00      8980\n",
      "\n",
      "Multinomial NB:               precision    recall  f1-score   support\n",
      "\n",
      "           0       0.97      0.94      0.95      4696\n",
      "           1       0.93      0.97      0.95      4284\n",
      "\n",
      "    accuracy                           0.95      8980\n",
      "   macro avg       0.95      0.95      0.95      8980\n",
      "weighted avg       0.95      0.95      0.95      8980\n",
      "\n",
      "Random Forest:               precision    recall  f1-score   support\n",
      "\n",
      "           0       1.00      0.99      0.99      4696\n",
      "           1       0.99      1.00      0.99      4284\n",
      "\n",
      "    accuracy                           0.99      8980\n",
      "   macro avg       0.99      0.99      0.99      8980\n",
      "weighted avg       0.99      0.99      0.99      8980\n",
      "\n",
      "Gradient Boosting:               precision    recall  f1-score   support\n",
      "\n",
      "           0       1.00      0.99      1.00      4696\n",
      "           1       0.99      1.00      1.00      4284\n",
      "\n",
      "    accuracy                           1.00      8980\n",
      "   macro avg       1.00      1.00      1.00      8980\n",
      "weighted avg       1.00      1.00      1.00      8980\n",
      "\n",
      "Model Comparison:\n",
      "                 Model  Accuracy\n",
      "4    Gradient Boosting  0.996437\n",
      "1           Linear SVC  0.996325\n",
      "3        Random Forest  0.993096\n",
      "0  Logistic Regression  0.987862\n",
      "2       Multinomial NB  0.952450\n"
     ]
    }
   ],
   "source": [
    "from sklearn.model_selection import train_test_split\n",
    "from sklearn.feature_extraction.text import TfidfVectorizer\n",
    "from sklearn.linear_model import LogisticRegression\n",
    "from sklearn.naive_bayes import MultinomialNB\n",
    "from sklearn.svm import LinearSVC\n",
    "from sklearn.ensemble import RandomForestClassifier, GradientBoostingClassifier\n",
    "from sklearn.metrics import accuracy_score, classification_report\n",
    "import warnings\n",
    "warnings.filterwarnings(\"ignore\")\n",
    "\n",
    "# We have to input 'text' as the only input to the models --> prevent data leakage \n",
    "X_train, X_test, y_train, y_test = train_test_split(\n",
    "    df[\"text\"], df[\"label\"], test_size=0.2, random_state=42, stratify=df[\"label\"]\n",
    ")\n",
    "\n",
    "vectorizer = TfidfVectorizer(max_df=0.7)\n",
    "tfidf_train = vectorizer.fit_transform(X_train)\n",
    "tfidf_test = vectorizer.transform(X_test)\n",
    "\n",
    "models = {\n",
    "    \"Logistic Regression\": LogisticRegression(max_iter=200),\n",
    "    \"Linear SVC\": LinearSVC(),\n",
    "    \"Multinomial NB\": MultinomialNB(),\n",
    "    \"Random Forest\": RandomForestClassifier(n_estimators=200, random_state=42),\n",
    "    \"Gradient Boosting\": GradientBoostingClassifier(random_state=42)\n",
    "}\n",
    "\n",
    "results = []\n",
    "\n",
    "for name, model in models.items():\n",
    "    model.fit(tfidf_train, y_train)\n",
    "    y_pred = model.predict(tfidf_test)\n",
    "    acc = accuracy_score(y_test, y_pred)\n",
    "    results.append({\"Model\": name, \"Accuracy\": acc})\n",
    "    print(f\"{name}:\", classification_report(y_test, y_pred))\n",
    "\n",
    "results_df = pd.DataFrame(results).sort_values(by=\"Accuracy\", ascending=False)\n",
    "print(\"Model Comparison:\")\n",
    "print(results_df)\n"
   ]
  },
  {
   "cell_type": "markdown",
   "id": "7861c9d4",
   "metadata": {
    "papermill": {
     "duration": 0.009364,
     "end_time": "2025-08-11T11:35:41.220029",
     "exception": false,
     "start_time": "2025-08-11T11:35:41.210665",
     "status": "completed"
    },
    "tags": []
   },
   "source": [
    "# Testing Data Leakage"
   ]
  },
  {
   "cell_type": "markdown",
   "id": "1ed7d524",
   "metadata": {
    "papermill": {
     "duration": 0.008764,
     "end_time": "2025-08-11T11:35:41.239057",
     "exception": false,
     "start_time": "2025-08-11T11:35:41.230293",
     "status": "completed"
    },
    "tags": []
   },
   "source": [
    "- If in text, there are any specific words for each fake or true news,there is chance of data leakage"
   ]
  },
  {
   "cell_type": "code",
   "execution_count": 15,
   "id": "f14e7889",
   "metadata": {
    "execution": {
     "iopub.execute_input": "2025-08-11T11:35:41.346045Z",
     "iopub.status.busy": "2025-08-11T11:35:41.345618Z",
     "iopub.status.idle": "2025-08-11T11:35:45.499368Z",
     "shell.execute_reply": "2025-08-11T11:35:45.497220Z"
    },
    "papermill": {
     "duration": 4.252713,
     "end_time": "2025-08-11T11:35:45.501658",
     "exception": false,
     "start_time": "2025-08-11T11:35:41.248945",
     "status": "completed"
    },
    "tags": []
   },
   "outputs": [
    {
     "name": "stdout",
     "output_type": "stream",
     "text": [
      "Fake sample words: ['kerrey', 'shortcircuited', 'careerism', 'peddles', 'markread', 'housesaying', 'raidersimage', 'customersthose', 'cambell', 'aloneyet', 'mediapence', 'lpn', 'serverrelated', 'failedwhat', 'councilwoman', 'candidateyes', 'pictwittercomfezmgofcj', 'seriouslyjennings', 'autobiographyat', 'swflib']\n",
      "Real sample words : ['cecillia', 'davidndii', 'members’', 'manufacturing’s', 'riskaverse', 'campuses”', 'supermighty', 'american’”', 'minskbased', 'belief”', 'dollaramount', 'silva’s', 'quebradillas', 'khurmala', '“presents', 'xuexiang', 'cmb', 'voucherstyle', 'shortridge’s', 'jyoti']\n"
     ]
    }
   ],
   "source": [
    "from collections import Counter\n",
    "\n",
    "fake_words = Counter(\" \".join(df[df[\"label\"]==0][\"text\"]).split())\n",
    "real_words = Counter(\" \".join(df[df[\"label\"]==1][\"text\"]).split())\n",
    "\n",
    "exclusive_fake = set(fake_words) - set(real_words)\n",
    "exclusive_real = set(real_words) - set(fake_words)\n",
    "\n",
    "print(\"Fake sample words:\", list(exclusive_fake)[:20])\n",
    "print(\"Real sample words :\", list(exclusive_real)[:20])\n",
    "\n",
    "\n",
    "\n"
   ]
  },
  {
   "cell_type": "markdown",
   "id": "097c99a0",
   "metadata": {
    "papermill": {
     "duration": 0.008432,
     "end_time": "2025-08-11T11:35:45.518835",
     "exception": false,
     "start_time": "2025-08-11T11:35:45.510403",
     "status": "completed"
    },
    "tags": []
   },
   "source": [
    "- model memorize duplicated news"
   ]
  },
  {
   "cell_type": "code",
   "execution_count": 16,
   "id": "8854bc82",
   "metadata": {
    "execution": {
     "iopub.execute_input": "2025-08-11T11:35:45.539949Z",
     "iopub.status.busy": "2025-08-11T11:35:45.539574Z",
     "iopub.status.idle": "2025-08-11T11:35:45.621944Z",
     "shell.execute_reply": "2025-08-11T11:35:45.620565Z"
    },
    "papermill": {
     "duration": 0.096497,
     "end_time": "2025-08-11T11:35:45.623946",
     "exception": false,
     "start_time": "2025-08-11T11:35:45.527449",
     "status": "completed"
    },
    "tags": []
   },
   "outputs": [
    {
     "name": "stdout",
     "output_type": "stream",
     "text": [
      " dup news : 11426\n"
     ]
    }
   ],
   "source": [
    "duplicates = df.duplicated(subset=[\"text\"], keep=False)\n",
    "print(\" dup news :\", duplicates.sum())\n"
   ]
  },
  {
   "cell_type": "markdown",
   "id": "927b81c0",
   "metadata": {
    "papermill": {
     "duration": 0.009284,
     "end_time": "2025-08-11T11:35:45.643341",
     "exception": false,
     "start_time": "2025-08-11T11:35:45.634057",
     "status": "completed"
    },
    "tags": []
   },
   "source": [
    "# phase 2 models"
   ]
  },
  {
   "cell_type": "code",
   "execution_count": 17,
   "id": "ba39ae1c",
   "metadata": {
    "execution": {
     "iopub.execute_input": "2025-08-11T11:35:45.664098Z",
     "iopub.status.busy": "2025-08-11T11:35:45.663705Z",
     "iopub.status.idle": "2025-08-11T11:35:45.698132Z",
     "shell.execute_reply": "2025-08-11T11:35:45.696941Z"
    },
    "papermill": {
     "duration": 0.046607,
     "end_time": "2025-08-11T11:35:45.700127",
     "exception": false,
     "start_time": "2025-08-11T11:35:45.653520",
     "status": "completed"
    },
    "tags": []
   },
   "outputs": [
    {
     "name": "stdout",
     "output_type": "stream",
     "text": [
      ": 38583\n"
     ]
    }
   ],
   "source": [
    "#delete duplicated\n",
    "df_clean = df.drop_duplicates(subset=[\"text\"]).reset_index(drop=True)\n",
    "print(f\": {len(df_clean)}\")"
   ]
  },
  {
   "cell_type": "code",
   "execution_count": 18,
   "id": "dd47a652",
   "metadata": {
    "execution": {
     "iopub.execute_input": "2025-08-11T11:35:45.721965Z",
     "iopub.status.busy": "2025-08-11T11:35:45.721554Z",
     "iopub.status.idle": "2025-08-11T11:35:54.102355Z",
     "shell.execute_reply": "2025-08-11T11:35:54.100486Z"
    },
    "papermill": {
     "duration": 8.395827,
     "end_time": "2025-08-11T11:35:54.104944",
     "exception": false,
     "start_time": "2025-08-11T11:35:45.709117",
     "status": "completed"
    },
    "tags": []
   },
   "outputs": [],
   "source": [
    "# preprocessing agian\n",
    "def clean_text(text):\n",
    "    text = text.lower()\n",
    "    text = re.sub(r\"http\\S+\", \"\", text)               # حذف لینک‌ها\n",
    "    text = re.sub(r\"\\d+\", \"\", text)                   # حذف اعداد\n",
    "    text = text.translate(str.maketrans(\"\", \"\", string.punctuation))  # حذف علائم نگارشی\n",
    "    text = re.sub(r\"\\s+\", \" \", text).strip()\n",
    "    return text\n",
    "\n",
    "df_clean[\"clean_text\"] = df_clean[\"text\"].apply(clean_text)\n"
   ]
  },
  {
   "cell_type": "code",
   "execution_count": 19,
   "id": "409d1bcd",
   "metadata": {
    "execution": {
     "iopub.execute_input": "2025-08-11T11:35:54.125635Z",
     "iopub.status.busy": "2025-08-11T11:35:54.124917Z",
     "iopub.status.idle": "2025-08-11T11:35:57.230957Z",
     "shell.execute_reply": "2025-08-11T11:35:57.229862Z"
    },
    "papermill": {
     "duration": 3.118467,
     "end_time": "2025-08-11T11:35:57.232695",
     "exception": false,
     "start_time": "2025-08-11T11:35:54.114228",
     "status": "completed"
    },
    "tags": []
   },
   "outputs": [],
   "source": [
    "# Identify exclusive words\n",
    "\n",
    "fake_words = Counter(\" \".join(df_clean[df_clean[\"label\"]==0][\"clean_text\"]).split())\n",
    "real_words = Counter(\" \".join(df_clean[df_clean[\"label\"]==1][\"clean_text\"]).split())\n",
    "\n",
    "exclusive_fake = set(fake_words) - set(real_words)\n",
    "exclusive_real = set(real_words) - set(fake_words)"
   ]
  },
  {
   "cell_type": "code",
   "execution_count": 20,
   "id": "2af63505",
   "metadata": {
    "execution": {
     "iopub.execute_input": "2025-08-11T11:35:57.251002Z",
     "iopub.status.busy": "2025-08-11T11:35:57.250640Z",
     "iopub.status.idle": "2025-08-11T11:36:01.639568Z",
     "shell.execute_reply": "2025-08-11T11:36:01.638124Z"
    },
    "papermill": {
     "duration": 4.401391,
     "end_time": "2025-08-11T11:36:01.642680",
     "exception": false,
     "start_time": "2025-08-11T11:35:57.241289",
     "status": "completed"
    },
    "tags": []
   },
   "outputs": [],
   "source": [
    "# delete exclusive\n",
    "\n",
    "def remove_exclusive_and_rare_words(text, rare_threshold=2):\n",
    "    words = text.split()\n",
    "    words = [w for w in words if w not in exclusive_fake and w not in exclusive_real]\n",
    "    counts = Counter(words)\n",
    "    words = [w for w in words if counts[w] >= rare_threshold]\n",
    "    return \" \".join(words)\n",
    "\n",
    "df_clean[\"clean_text\"] = df_clean[\"clean_text\"].apply(remove_exclusive_and_rare_words)"
   ]
  },
  {
   "cell_type": "code",
   "execution_count": 21,
   "id": "a2bc1bb3",
   "metadata": {
    "execution": {
     "iopub.execute_input": "2025-08-11T11:36:01.666538Z",
     "iopub.status.busy": "2025-08-11T11:36:01.666111Z",
     "iopub.status.idle": "2025-08-11T11:36:12.468590Z",
     "shell.execute_reply": "2025-08-11T11:36:12.467199Z"
    },
    "papermill": {
     "duration": 10.817866,
     "end_time": "2025-08-11T11:36:12.470919",
     "exception": false,
     "start_time": "2025-08-11T11:36:01.653053",
     "status": "completed"
    },
    "tags": []
   },
   "outputs": [],
   "source": [
    "# train-test and vectorize\n",
    "X_train, X_test, y_train, y_test = train_test_split(\n",
    "    df_clean[\"clean_text\"], df_clean[\"label\"], test_size=0.2,\n",
    "    random_state=42, stratify=df_clean[\"label\"]\n",
    ")\n",
    "\n",
    "vectorizer = TfidfVectorizer(max_df=0.7, min_df=3, ngram_range=(1, 2))\n",
    "X_train_tfidf = vectorizer.fit_transform(X_train)\n",
    "X_test_tfidf = vectorizer.transform(X_test)\n"
   ]
  },
  {
   "cell_type": "code",
   "execution_count": 22,
   "id": "74054fe8",
   "metadata": {
    "execution": {
     "iopub.execute_input": "2025-08-11T11:36:12.491958Z",
     "iopub.status.busy": "2025-08-11T11:36:12.491570Z",
     "iopub.status.idle": "2025-08-11T11:36:14.692764Z",
     "shell.execute_reply": "2025-08-11T11:36:14.689040Z"
    },
    "papermill": {
     "duration": 2.215667,
     "end_time": "2025-08-11T11:36:14.696348",
     "exception": false,
     "start_time": "2025-08-11T11:36:12.480681",
     "status": "completed"
    },
    "tags": []
   },
   "outputs": [
    {
     "name": "stdout",
     "output_type": "stream",
     "text": [
      "Accuracy after cleaning: 0.9425942723856421\n",
      "              precision    recall  f1-score   support\n",
      "\n",
      "           0       0.94      0.93      0.94      3479\n",
      "           1       0.95      0.95      0.95      4238\n",
      "\n",
      "    accuracy                           0.94      7717\n",
      "   macro avg       0.94      0.94      0.94      7717\n",
      "weighted avg       0.94      0.94      0.94      7717\n",
      "\n"
     ]
    }
   ],
   "source": [
    "# god help me defeat data leakage\n",
    "model = LogisticRegression(max_iter=200)\n",
    "model.fit(X_train_tfidf, y_train)\n",
    "y_pred = model.predict(X_test_tfidf)\n",
    "\n",
    "print(\"Accuracy after cleaning:\", accuracy_score(y_test, y_pred))\n",
    "print(classification_report(y_test, y_pred))"
   ]
  },
  {
   "cell_type": "markdown",
   "id": "1e4ef77b",
   "metadata": {
    "papermill": {
     "duration": 0.020046,
     "end_time": "2025-08-11T11:36:14.749183",
     "exception": false,
     "start_time": "2025-08-11T11:36:14.729137",
     "status": "completed"
    },
    "tags": []
   },
   "source": [
    "* bia vasat"
   ]
  },
  {
   "cell_type": "code",
   "execution_count": 23,
   "id": "9a3f4751",
   "metadata": {
    "execution": {
     "iopub.execute_input": "2025-08-11T11:36:14.772619Z",
     "iopub.status.busy": "2025-08-11T11:36:14.770882Z",
     "iopub.status.idle": "2025-08-11T11:42:01.764527Z",
     "shell.execute_reply": "2025-08-11T11:42:01.763560Z"
    },
    "papermill": {
     "duration": 347.006759,
     "end_time": "2025-08-11T11:42:01.766852",
     "exception": false,
     "start_time": "2025-08-11T11:36:14.760093",
     "status": "completed"
    },
    "tags": []
   },
   "outputs": [
    {
     "name": "stdout",
     "output_type": "stream",
     "text": [
      "Linear SVC Accuracy: 0.9492\n",
      "              precision    recall  f1-score   support\n",
      "\n",
      "           0       0.94      0.95      0.94      3479\n",
      "           1       0.96      0.95      0.95      4238\n",
      "\n",
      "    accuracy                           0.95      7717\n",
      "   macro avg       0.95      0.95      0.95      7717\n",
      "weighted avg       0.95      0.95      0.95      7717\n",
      "\n",
      "Gradient Boosting Accuracy: 0.8857\n",
      "              precision    recall  f1-score   support\n",
      "\n",
      "           0       0.85      0.90      0.88      3479\n",
      "           1       0.91      0.87      0.89      4238\n",
      "\n",
      "    accuracy                           0.89      7717\n",
      "   macro avg       0.88      0.89      0.89      7717\n",
      "weighted avg       0.89      0.89      0.89      7717\n",
      "\n",
      "Random Forest Accuracy: 0.9366\n",
      "              precision    recall  f1-score   support\n",
      "\n",
      "           0       0.94      0.92      0.93      3479\n",
      "           1       0.93      0.95      0.94      4238\n",
      "\n",
      "    accuracy                           0.94      7717\n",
      "   macro avg       0.94      0.93      0.94      7717\n",
      "weighted avg       0.94      0.94      0.94      7717\n",
      "\n",
      "Multinomial NB Accuracy: 0.9054\n",
      "              precision    recall  f1-score   support\n",
      "\n",
      "           0       0.93      0.85      0.89      3479\n",
      "           1       0.89      0.95      0.92      4238\n",
      "\n",
      "    accuracy                           0.91      7717\n",
      "   macro avg       0.91      0.90      0.90      7717\n",
      "weighted avg       0.91      0.91      0.90      7717\n",
      "\n",
      "Logistic Regression Accuracy: 0.9426\n",
      "              precision    recall  f1-score   support\n",
      "\n",
      "           0       0.94      0.93      0.94      3479\n",
      "           1       0.95      0.95      0.95      4238\n",
      "\n",
      "    accuracy                           0.94      7717\n",
      "   macro avg       0.94      0.94      0.94      7717\n",
      "weighted avg       0.94      0.94      0.94      7717\n",
      "\n",
      "Summary of accuracies:\n",
      "Linear SVC: 0.9492\n",
      "Gradient Boosting: 0.8857\n",
      "Random Forest: 0.9366\n",
      "Multinomial NB: 0.9054\n",
      "Logistic Regression: 0.9426\n"
     ]
    }
   ],
   "source": [
    "models = {\n",
    "    \"Linear SVC\": LinearSVC(max_iter=2000),\n",
    "    \"Gradient Boosting\": GradientBoostingClassifier(),\n",
    "    \"Random Forest\": RandomForestClassifier(n_estimators=200, random_state=42, n_jobs=-1),\n",
    "    \"Multinomial NB\": MultinomialNB(),\n",
    "    \"Logistic Regression\": LogisticRegression(max_iter=200)\n",
    "}\n",
    "\n",
    "results = {}\n",
    "for name, model in models.items():\n",
    "    model.fit(X_train_tfidf, y_train)\n",
    "    preds = model.predict(X_test_tfidf)\n",
    "    acc = accuracy_score(y_test, preds)\n",
    "    results[name] = acc\n",
    "    print(f\"{name} Accuracy: {acc:.4f}\")\n",
    "    print(classification_report(y_test, preds))\n",
    "\n",
    "print(\"Summary of accuracies:\")\n",
    "for k, v in results.items():\n",
    "    print(f\"{k}: {v:.4f}\")"
   ]
  },
  {
   "cell_type": "markdown",
   "id": "b18d5aac",
   "metadata": {
    "papermill": {
     "duration": 0.014444,
     "end_time": "2025-08-11T11:42:01.797057",
     "exception": false,
     "start_time": "2025-08-11T11:42:01.782613",
     "status": "completed"
    },
    "tags": []
   },
   "source": [
    "As you can see, Linear SVC: 0.9492 has the best accuracy among all the models."
   ]
  },
  {
   "cell_type": "markdown",
   "id": "eaf64246",
   "metadata": {
    "papermill": {
     "duration": 0.013814,
     "end_time": "2025-08-11T11:42:01.824628",
     "exception": false,
     "start_time": "2025-08-11T11:42:01.810814",
     "status": "completed"
    },
    "tags": []
   },
   "source": [
    "# hyper-parameter tunning"
   ]
  },
  {
   "cell_type": "code",
   "execution_count": 24,
   "id": "6c880ef4",
   "metadata": {
    "execution": {
     "iopub.execute_input": "2025-08-11T11:42:01.848149Z",
     "iopub.status.busy": "2025-08-11T11:42:01.847795Z",
     "iopub.status.idle": "2025-08-11T11:42:01.855098Z",
     "shell.execute_reply": "2025-08-11T11:42:01.853650Z"
    },
    "papermill": {
     "duration": 0.019543,
     "end_time": "2025-08-11T11:42:01.857345",
     "exception": false,
     "start_time": "2025-08-11T11:42:01.837802",
     "status": "completed"
    },
    "tags": []
   },
   "outputs": [],
   "source": [
    "from sklearn.model_selection import GridSearchCV\n",
    "import numpy as np\n",
    "\n",
    "\n",
    "param_grid = {\n",
    "    'C': np.logspace(-3, 2, 6),  # [0.001, 0.01, 0.1, 1, 10, 100]\n",
    "    'loss': ['hinge', 'squared_hinge'],\n",
    "    'class_weight': [None, 'balanced']\n",
    "}\n",
    "\n",
    "# base model\n",
    "svc = LinearSVC(max_iter=5000)\n",
    "\n",
    "# set GridSearchCV\n",
    "grid_search = GridSearchCV(\n",
    "    estimator=svc,\n",
    "    param_grid=param_grid,\n",
    "    scoring='accuracy',\n",
    "    cv=5,              # 5-fold cross validation\n",
    "    n_jobs=-1,   \n",
    "    verbose=2\n",
    ")"
   ]
  },
  {
   "cell_type": "code",
   "execution_count": 25,
   "id": "599ef499",
   "metadata": {
    "execution": {
     "iopub.execute_input": "2025-08-11T11:42:01.876420Z",
     "iopub.status.busy": "2025-08-11T11:42:01.876083Z",
     "iopub.status.idle": "2025-08-11T11:45:26.364232Z",
     "shell.execute_reply": "2025-08-11T11:45:26.362090Z"
    },
    "papermill": {
     "duration": 204.50069,
     "end_time": "2025-08-11T11:45:26.366821",
     "exception": false,
     "start_time": "2025-08-11T11:42:01.866131",
     "status": "completed"
    },
    "tags": []
   },
   "outputs": [
    {
     "name": "stdout",
     "output_type": "stream",
     "text": [
      "Fitting 5 folds for each of 24 candidates, totalling 120 fits\n"
     ]
    },
    {
     "name": "stderr",
     "output_type": "stream",
     "text": [
      "/usr/local/lib/python3.11/dist-packages/sklearn/svm/_base.py:1244: ConvergenceWarning: Liblinear failed to converge, increase the number of iterations.\n",
      "  warnings.warn(\n"
     ]
    },
    {
     "name": "stdout",
     "output_type": "stream",
     "text": [
      "Best Parameters: {'C': 1.0, 'class_weight': None, 'loss': 'hinge'}\n",
      "Best Cross-Validation Accuracy: 0.9502040165614586\n",
      "Test Accuracy with best params: 0.9484255539717507\n"
     ]
    }
   ],
   "source": [
    "#search for the best option\n",
    "grid_search.fit(X_train_tfidf, y_train)\n",
    "\n",
    "print(\"Best Parameters:\", grid_search.best_params_)\n",
    "print(\"Best Cross-Validation Accuracy:\", grid_search.best_score_)\n",
    "\n",
    "#test on the test data\n",
    "best_model = grid_search.best_estimator_\n",
    "test_acc = best_model.score(X_test_tfidf, y_test)\n",
    "print(\"Test Accuracy with best params:\", test_acc)"
   ]
  }
 ],
 "metadata": {
  "kaggle": {
   "accelerator": "none",
   "dataSources": [
    {
     "datasetId": 4831777,
     "sourceId": 8165591,
     "sourceType": "datasetVersion"
    }
   ],
   "dockerImageVersionId": 31089,
   "isGpuEnabled": false,
   "isInternetEnabled": true,
   "language": "python",
   "sourceType": "notebook"
  },
  "kernelspec": {
   "display_name": "Python 3",
   "language": "python",
   "name": "python3"
  },
  "language_info": {
   "codemirror_mode": {
    "name": "ipython",
    "version": 3
   },
   "file_extension": ".py",
   "mimetype": "text/x-python",
   "name": "python",
   "nbconvert_exporter": "python",
   "pygments_lexer": "ipython3",
   "version": "3.11.13"
  },
  "papermill": {
   "default_parameters": {},
   "duration": 1380.569396,
   "end_time": "2025-08-11T11:45:29.102423",
   "environment_variables": {},
   "exception": null,
   "input_path": "__notebook__.ipynb",
   "output_path": "__notebook__.ipynb",
   "parameters": {},
   "start_time": "2025-08-11T11:22:28.533027",
   "version": "2.6.0"
  }
 },
 "nbformat": 4,
 "nbformat_minor": 5
}
