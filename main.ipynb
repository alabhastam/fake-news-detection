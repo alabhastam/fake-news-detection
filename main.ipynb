{
 "cells": [
  {
   "cell_type": "markdown",
   "id": "45f83b86",
   "metadata": {
    "papermill": {
     "duration": 0.004769,
     "end_time": "2025-08-09T21:22:07.466295",
     "exception": false,
     "start_time": "2025-08-09T21:22:07.461526",
     "status": "completed"
    },
    "tags": []
   },
   "source": [
    "# Loading Data and Glance"
   ]
  },
  {
   "cell_type": "code",
   "execution_count": 1,
   "id": "21e635bd",
   "metadata": {
    "execution": {
     "iopub.execute_input": "2025-08-09T21:22:07.475187Z",
     "iopub.status.busy": "2025-08-09T21:22:07.474803Z",
     "iopub.status.idle": "2025-08-09T21:22:15.330168Z",
     "shell.execute_reply": "2025-08-09T21:22:15.328891Z"
    },
    "papermill": {
     "duration": 7.862063,
     "end_time": "2025-08-09T21:22:15.332288",
     "exception": false,
     "start_time": "2025-08-09T21:22:07.470225",
     "status": "completed"
    },
    "tags": []
   },
   "outputs": [],
   "source": [
    "import pandas as pd\n",
    "import matplotlib.pyplot as plt\n",
    "import seaborn as sns\n",
    "import warnings\n",
    "warnings.filterwarnings('always')\n",
    "\n",
    "fake = pd.read_csv(\"/kaggle/input/fake-and-real-news-dataset/Fake.csv\")\n",
    "true = pd.read_csv(\"/kaggle/input/fake-and-real-news-dataset/True.csv\")"
   ]
  },
  {
   "cell_type": "code",
   "execution_count": 2,
   "id": "d72544be",
   "metadata": {
    "execution": {
     "iopub.execute_input": "2025-08-09T21:22:15.340892Z",
     "iopub.status.busy": "2025-08-09T21:22:15.340533Z",
     "iopub.status.idle": "2025-08-09T21:22:15.346547Z",
     "shell.execute_reply": "2025-08-09T21:22:15.345433Z"
    },
    "papermill": {
     "duration": 0.012538,
     "end_time": "2025-08-09T21:22:15.348666",
     "exception": false,
     "start_time": "2025-08-09T21:22:15.336128",
     "status": "completed"
    },
    "tags": []
   },
   "outputs": [
    {
     "name": "stdout",
     "output_type": "stream",
     "text": [
      "Fake News Dataset Shape: (23481, 4)\n",
      "True News Dataset Shape: (21417, 4)\n"
     ]
    }
   ],
   "source": [
    "print(\"Fake News Dataset Shape:\", fake.shape)\n",
    "print(\"True News Dataset Shape:\", true.shape)\n"
   ]
  },
  {
   "cell_type": "code",
   "execution_count": 3,
   "id": "a6148a0c",
   "metadata": {
    "execution": {
     "iopub.execute_input": "2025-08-09T21:22:15.357922Z",
     "iopub.status.busy": "2025-08-09T21:22:15.357580Z",
     "iopub.status.idle": "2025-08-09T21:22:15.387590Z",
     "shell.execute_reply": "2025-08-09T21:22:15.386457Z"
    },
    "papermill": {
     "duration": 0.037014,
     "end_time": "2025-08-09T21:22:15.389562",
     "exception": false,
     "start_time": "2025-08-09T21:22:15.352548",
     "status": "completed"
    },
    "tags": []
   },
   "outputs": [
    {
     "data": {
      "text/html": [
       "<div>\n",
       "<style scoped>\n",
       "    .dataframe tbody tr th:only-of-type {\n",
       "        vertical-align: middle;\n",
       "    }\n",
       "\n",
       "    .dataframe tbody tr th {\n",
       "        vertical-align: top;\n",
       "    }\n",
       "\n",
       "    .dataframe thead th {\n",
       "        text-align: right;\n",
       "    }\n",
       "</style>\n",
       "<table border=\"1\" class=\"dataframe\">\n",
       "  <thead>\n",
       "    <tr style=\"text-align: right;\">\n",
       "      <th></th>\n",
       "      <th>title</th>\n",
       "      <th>text</th>\n",
       "      <th>subject</th>\n",
       "      <th>date</th>\n",
       "    </tr>\n",
       "  </thead>\n",
       "  <tbody>\n",
       "    <tr>\n",
       "      <th>0</th>\n",
       "      <td>Donald Trump Sends Out Embarrassing New Year’...</td>\n",
       "      <td>Donald Trump just couldn t wish all Americans ...</td>\n",
       "      <td>News</td>\n",
       "      <td>December 31, 2017</td>\n",
       "    </tr>\n",
       "    <tr>\n",
       "      <th>1</th>\n",
       "      <td>Drunk Bragging Trump Staffer Started Russian ...</td>\n",
       "      <td>House Intelligence Committee Chairman Devin Nu...</td>\n",
       "      <td>News</td>\n",
       "      <td>December 31, 2017</td>\n",
       "    </tr>\n",
       "    <tr>\n",
       "      <th>2</th>\n",
       "      <td>Sheriff David Clarke Becomes An Internet Joke...</td>\n",
       "      <td>On Friday, it was revealed that former Milwauk...</td>\n",
       "      <td>News</td>\n",
       "      <td>December 30, 2017</td>\n",
       "    </tr>\n",
       "    <tr>\n",
       "      <th>3</th>\n",
       "      <td>Trump Is So Obsessed He Even Has Obama’s Name...</td>\n",
       "      <td>On Christmas day, Donald Trump announced that ...</td>\n",
       "      <td>News</td>\n",
       "      <td>December 29, 2017</td>\n",
       "    </tr>\n",
       "    <tr>\n",
       "      <th>4</th>\n",
       "      <td>Pope Francis Just Called Out Donald Trump Dur...</td>\n",
       "      <td>Pope Francis used his annual Christmas Day mes...</td>\n",
       "      <td>News</td>\n",
       "      <td>December 25, 2017</td>\n",
       "    </tr>\n",
       "  </tbody>\n",
       "</table>\n",
       "</div>"
      ],
      "text/plain": [
       "                                               title  \\\n",
       "0   Donald Trump Sends Out Embarrassing New Year’...   \n",
       "1   Drunk Bragging Trump Staffer Started Russian ...   \n",
       "2   Sheriff David Clarke Becomes An Internet Joke...   \n",
       "3   Trump Is So Obsessed He Even Has Obama’s Name...   \n",
       "4   Pope Francis Just Called Out Donald Trump Dur...   \n",
       "\n",
       "                                                text subject  \\\n",
       "0  Donald Trump just couldn t wish all Americans ...    News   \n",
       "1  House Intelligence Committee Chairman Devin Nu...    News   \n",
       "2  On Friday, it was revealed that former Milwauk...    News   \n",
       "3  On Christmas day, Donald Trump announced that ...    News   \n",
       "4  Pope Francis used his annual Christmas Day mes...    News   \n",
       "\n",
       "                date  \n",
       "0  December 31, 2017  \n",
       "1  December 31, 2017  \n",
       "2  December 30, 2017  \n",
       "3  December 29, 2017  \n",
       "4  December 25, 2017  "
      ]
     },
     "execution_count": 3,
     "metadata": {},
     "output_type": "execute_result"
    }
   ],
   "source": [
    "fake.head()"
   ]
  },
  {
   "cell_type": "code",
   "execution_count": 4,
   "id": "98674a3f",
   "metadata": {
    "execution": {
     "iopub.execute_input": "2025-08-09T21:22:15.399097Z",
     "iopub.status.busy": "2025-08-09T21:22:15.398597Z",
     "iopub.status.idle": "2025-08-09T21:22:15.411322Z",
     "shell.execute_reply": "2025-08-09T21:22:15.410283Z"
    },
    "papermill": {
     "duration": 0.019434,
     "end_time": "2025-08-09T21:22:15.413022",
     "exception": false,
     "start_time": "2025-08-09T21:22:15.393588",
     "status": "completed"
    },
    "tags": []
   },
   "outputs": [
    {
     "data": {
      "text/html": [
       "<div>\n",
       "<style scoped>\n",
       "    .dataframe tbody tr th:only-of-type {\n",
       "        vertical-align: middle;\n",
       "    }\n",
       "\n",
       "    .dataframe tbody tr th {\n",
       "        vertical-align: top;\n",
       "    }\n",
       "\n",
       "    .dataframe thead th {\n",
       "        text-align: right;\n",
       "    }\n",
       "</style>\n",
       "<table border=\"1\" class=\"dataframe\">\n",
       "  <thead>\n",
       "    <tr style=\"text-align: right;\">\n",
       "      <th></th>\n",
       "      <th>title</th>\n",
       "      <th>text</th>\n",
       "      <th>subject</th>\n",
       "      <th>date</th>\n",
       "    </tr>\n",
       "  </thead>\n",
       "  <tbody>\n",
       "    <tr>\n",
       "      <th>0</th>\n",
       "      <td>As U.S. budget fight looms, Republicans flip t...</td>\n",
       "      <td>WASHINGTON (Reuters) - The head of a conservat...</td>\n",
       "      <td>politicsNews</td>\n",
       "      <td>December 31, 2017</td>\n",
       "    </tr>\n",
       "    <tr>\n",
       "      <th>1</th>\n",
       "      <td>U.S. military to accept transgender recruits o...</td>\n",
       "      <td>WASHINGTON (Reuters) - Transgender people will...</td>\n",
       "      <td>politicsNews</td>\n",
       "      <td>December 29, 2017</td>\n",
       "    </tr>\n",
       "    <tr>\n",
       "      <th>2</th>\n",
       "      <td>Senior U.S. Republican senator: 'Let Mr. Muell...</td>\n",
       "      <td>WASHINGTON (Reuters) - The special counsel inv...</td>\n",
       "      <td>politicsNews</td>\n",
       "      <td>December 31, 2017</td>\n",
       "    </tr>\n",
       "    <tr>\n",
       "      <th>3</th>\n",
       "      <td>FBI Russia probe helped by Australian diplomat...</td>\n",
       "      <td>WASHINGTON (Reuters) - Trump campaign adviser ...</td>\n",
       "      <td>politicsNews</td>\n",
       "      <td>December 30, 2017</td>\n",
       "    </tr>\n",
       "    <tr>\n",
       "      <th>4</th>\n",
       "      <td>Trump wants Postal Service to charge 'much mor...</td>\n",
       "      <td>SEATTLE/WASHINGTON (Reuters) - President Donal...</td>\n",
       "      <td>politicsNews</td>\n",
       "      <td>December 29, 2017</td>\n",
       "    </tr>\n",
       "  </tbody>\n",
       "</table>\n",
       "</div>"
      ],
      "text/plain": [
       "                                               title  \\\n",
       "0  As U.S. budget fight looms, Republicans flip t...   \n",
       "1  U.S. military to accept transgender recruits o...   \n",
       "2  Senior U.S. Republican senator: 'Let Mr. Muell...   \n",
       "3  FBI Russia probe helped by Australian diplomat...   \n",
       "4  Trump wants Postal Service to charge 'much mor...   \n",
       "\n",
       "                                                text       subject  \\\n",
       "0  WASHINGTON (Reuters) - The head of a conservat...  politicsNews   \n",
       "1  WASHINGTON (Reuters) - Transgender people will...  politicsNews   \n",
       "2  WASHINGTON (Reuters) - The special counsel inv...  politicsNews   \n",
       "3  WASHINGTON (Reuters) - Trump campaign adviser ...  politicsNews   \n",
       "4  SEATTLE/WASHINGTON (Reuters) - President Donal...  politicsNews   \n",
       "\n",
       "                 date  \n",
       "0  December 31, 2017   \n",
       "1  December 29, 2017   \n",
       "2  December 31, 2017   \n",
       "3  December 30, 2017   \n",
       "4  December 29, 2017   "
      ]
     },
     "execution_count": 4,
     "metadata": {},
     "output_type": "execute_result"
    }
   ],
   "source": [
    "true.head()"
   ]
  },
  {
   "cell_type": "code",
   "execution_count": 5,
   "id": "bd175b53",
   "metadata": {
    "execution": {
     "iopub.execute_input": "2025-08-09T21:22:15.423338Z",
     "iopub.status.busy": "2025-08-09T21:22:15.422285Z",
     "iopub.status.idle": "2025-08-09T21:22:15.440184Z",
     "shell.execute_reply": "2025-08-09T21:22:15.438972Z"
    },
    "papermill": {
     "duration": 0.025004,
     "end_time": "2025-08-09T21:22:15.442076",
     "exception": false,
     "start_time": "2025-08-09T21:22:15.417072",
     "status": "completed"
    },
    "tags": []
   },
   "outputs": [],
   "source": [
    "# Concat two data frames together \n",
    "\n",
    "fake[\"label\"] = 0  # 0 = Fake\n",
    "true[\"label\"] = 1  # 1 = Real\n",
    "\n",
    "df = pd.concat([fake, true], axis=0)\n"
   ]
  },
  {
   "cell_type": "code",
   "execution_count": 6,
   "id": "b66b8f28",
   "metadata": {
    "execution": {
     "iopub.execute_input": "2025-08-09T21:22:15.451613Z",
     "iopub.status.busy": "2025-08-09T21:22:15.451222Z",
     "iopub.status.idle": "2025-08-09T21:22:15.481150Z",
     "shell.execute_reply": "2025-08-09T21:22:15.479576Z"
    },
    "papermill": {
     "duration": 0.037201,
     "end_time": "2025-08-09T21:22:15.483423",
     "exception": false,
     "start_time": "2025-08-09T21:22:15.446222",
     "status": "completed"
    },
    "tags": []
   },
   "outputs": [
    {
     "name": "stdout",
     "output_type": "stream",
     "text": [
      "title      0\n",
      "text       0\n",
      "subject    0\n",
      "date       0\n",
      "label      0\n",
      "dtype: int64\n"
     ]
    }
   ],
   "source": [
    "print(df.isnull().sum())\n"
   ]
  },
  {
   "cell_type": "markdown",
   "id": "ffd99ecf",
   "metadata": {
    "papermill": {
     "duration": 0.004256,
     "end_time": "2025-08-09T21:22:15.492443",
     "exception": false,
     "start_time": "2025-08-09T21:22:15.488187",
     "status": "completed"
    },
    "tags": []
   },
   "source": [
    "* There is no null value.That's what make us happy."
   ]
  },
  {
   "cell_type": "code",
   "execution_count": 7,
   "id": "48bf4a1b",
   "metadata": {
    "execution": {
     "iopub.execute_input": "2025-08-09T21:22:15.502717Z",
     "iopub.status.busy": "2025-08-09T21:22:15.502318Z",
     "iopub.status.idle": "2025-08-09T21:22:15.943348Z",
     "shell.execute_reply": "2025-08-09T21:22:15.942044Z"
    },
    "papermill": {
     "duration": 0.44818,
     "end_time": "2025-08-09T21:22:15.945254",
     "exception": false,
     "start_time": "2025-08-09T21:22:15.497074",
     "status": "completed"
    },
    "tags": []
   },
   "outputs": [
    {
     "name": "stderr",
     "output_type": "stream",
     "text": [
      "/usr/local/lib/python3.11/dist-packages/seaborn/_oldcore.py:1498: DeprecationWarning: is_categorical_dtype is deprecated and will be removed in a future version. Use isinstance(dtype, pd.CategoricalDtype) instead\n",
      "  if pd.api.types.is_categorical_dtype(vector):\n",
      "/usr/local/lib/python3.11/dist-packages/seaborn/_oldcore.py:1498: DeprecationWarning: is_categorical_dtype is deprecated and will be removed in a future version. Use isinstance(dtype, pd.CategoricalDtype) instead\n",
      "  if pd.api.types.is_categorical_dtype(vector):\n",
      "/usr/local/lib/python3.11/dist-packages/seaborn/_oldcore.py:1498: DeprecationWarning: is_categorical_dtype is deprecated and will be removed in a future version. Use isinstance(dtype, pd.CategoricalDtype) instead\n",
      "  if pd.api.types.is_categorical_dtype(vector):\n"
     ]
    },
    {
     "data": {
      "image/png": "[encoded data removed]",
      "text/plain": [
       "<Figure size 640x480 with 1 Axes>"
      ]
     },
     "metadata": {},
     "output_type": "display_data"
    }
   ],
   "source": [
    "sns.countplot(x=\"label\", data=df)\n",
    "plt.title(\"Class distribution (0=Fake, 1=True)\")\n",
    "plt.show()"
   ]
  },
  {
   "cell_type": "markdown",
   "id": "94e264f5",
   "metadata": {
    "papermill": {
     "duration": 0.003976,
     "end_time": "2025-08-09T21:22:15.953804",
     "exception": false,
     "start_time": "2025-08-09T21:22:15.949828",
     "status": "completed"
    },
    "tags": []
   },
   "source": [
    "* As it's clear, fake and true label distributions are equal. That makes a any Ml model works properly"
   ]
  },
  {
   "cell_type": "markdown",
   "id": "15a8c798",
   "metadata": {
    "papermill": {
     "duration": 0.003773,
     "end_time": "2025-08-09T21:22:15.962709",
     "exception": false,
     "start_time": "2025-08-09T21:22:15.958936",
     "status": "completed"
    },
    "tags": []
   },
   "source": [
    "# Preprocessing"
   ]
  },
  {
   "cell_type": "code",
   "execution_count": 8,
   "id": "f5499a4a",
   "metadata": {
    "execution": {
     "iopub.execute_input": "2025-08-09T21:22:15.972556Z",
     "iopub.status.busy": "2025-08-09T21:22:15.972127Z",
     "iopub.status.idle": "2025-08-09T21:22:17.089552Z",
     "shell.execute_reply": "2025-08-09T21:22:17.088206Z"
    },
    "papermill": {
     "duration": 1.124673,
     "end_time": "2025-08-09T21:22:17.091423",
     "exception": false,
     "start_time": "2025-08-09T21:22:15.966750",
     "status": "completed"
    },
    "tags": []
   },
   "outputs": [],
   "source": [
    "# add dependency\n",
    "import string\n",
    "import nltk\n",
    "from nltk.corpus import stopwords\n",
    "from nltk.stem import WordNetLemmatizer\n",
    "import re\n"
   ]
  },
  {
   "cell_type": "code",
   "execution_count": 9,
   "id": "ed817e42",
   "metadata": {
    "execution": {
     "iopub.execute_input": "2025-08-09T21:22:17.101998Z",
     "iopub.status.busy": "2025-08-09T21:22:17.101595Z",
     "iopub.status.idle": "2025-08-09T21:22:17.473577Z",
     "shell.execute_reply": "2025-08-09T21:22:17.472370Z"
    },
    "papermill": {
     "duration": 0.379671,
     "end_time": "2025-08-09T21:22:17.475491",
     "exception": false,
     "start_time": "2025-08-09T21:22:17.095820",
     "status": "completed"
    },
    "tags": []
   },
   "outputs": [
    {
     "name": "stderr",
     "output_type": "stream",
     "text": [
      "[nltk_data] Downloading package stopwords to /usr/share/nltk_data...\n",
      "[nltk_data]   Package stopwords is already up-to-date!\n",
      "[nltk_data] Downloading package wordnet to /usr/share/nltk_data...\n",
      "[nltk_data]   Package wordnet is already up-to-date!\n",
      "[nltk_data] Downloading package omw-1.4 to /usr/share/nltk_data...\n"
     ]
    },
    {
     "data": {
      "text/plain": [
       "True"
      ]
     },
     "execution_count": 9,
     "metadata": {},
     "output_type": "execute_result"
    }
   ],
   "source": [
    "# download resources\n",
    "nltk.download('stopwords')\n",
    "nltk.download('wordnet')\n",
    "nltk.download('omw-1.4')"
   ]
  },
  {
   "cell_type": "code",
   "execution_count": 10,
   "id": "24eeff65",
   "metadata": {
    "execution": {
     "iopub.execute_input": "2025-08-09T21:22:17.485822Z",
     "iopub.status.busy": "2025-08-09T21:22:17.485452Z",
     "iopub.status.idle": "2025-08-09T21:22:25.141482Z",
     "shell.execute_reply": "2025-08-09T21:22:25.140379Z"
    },
    "papermill": {
     "duration": 7.663823,
     "end_time": "2025-08-09T21:22:25.143921",
     "exception": false,
     "start_time": "2025-08-09T21:22:17.480098",
     "status": "completed"
    },
    "tags": []
   },
   "outputs": [],
   "source": [
    "# uppercase to lowercase\n",
    "df[\"text\"] = df[\"text\"].str.lower()\n",
    "\n",
    "# deleting link and stuff XD\n",
    "df[\"text\"] = df[\"text\"].apply(lambda x: re.sub(r'http\\S+|www\\S+|https\\S+', '', x))  \n",
    "df[\"text\"] = df[\"text\"].apply(lambda x: re.sub(r'\\d+', '', x))  \n",
    "df[\"text\"] = df[\"text\"].apply(lambda x: x.translate(str.maketrans('', '', string.punctuation)))  "
   ]
  },
  {
   "cell_type": "code",
   "execution_count": 11,
   "id": "c58d1304",
   "metadata": {
    "execution": {
     "iopub.execute_input": "2025-08-09T21:22:25.155675Z",
     "iopub.status.busy": "2025-08-09T21:22:25.155316Z",
     "iopub.status.idle": "2025-08-09T21:22:28.013238Z",
     "shell.execute_reply": "2025-08-09T21:22:28.012129Z"
    },
    "papermill": {
     "duration": 2.866658,
     "end_time": "2025-08-09T21:22:28.015392",
     "exception": false,
     "start_time": "2025-08-09T21:22:25.148734",
     "status": "completed"
    },
    "tags": []
   },
   "outputs": [],
   "source": [
    "# delete stopwords\n",
    "stop_words = set(stopwords.words('english'))\n",
    "df[\"text\"] = df[\"text\"].apply(lambda x: ' '.join([word for word in x.split() if word not in stop_words]))"
   ]
  },
  {
   "cell_type": "code",
   "execution_count": 12,
   "id": "d68c493c",
   "metadata": {
    "execution": {
     "iopub.execute_input": "2025-08-09T21:22:28.029159Z",
     "iopub.status.busy": "2025-08-09T21:22:28.028711Z",
     "iopub.status.idle": "2025-08-09T21:23:17.394314Z",
     "shell.execute_reply": "2025-08-09T21:23:17.392875Z"
    },
    "papermill": {
     "duration": 49.376876,
     "end_time": "2025-08-09T21:23:17.397131",
     "exception": false,
     "start_time": "2025-08-09T21:22:28.020255",
     "status": "completed"
    },
    "tags": []
   },
   "outputs": [],
   "source": [
    "# Lemmatization\n",
    "lemmatizer = WordNetLemmatizer()\n",
    "df[\"text\"] = df[\"text\"].apply(lambda x: ' '.join([lemmatizer.lemmatize(word) for word in x.split()]))"
   ]
  },
  {
   "cell_type": "code",
   "execution_count": 13,
   "id": "a696d187",
   "metadata": {
    "execution": {
     "iopub.execute_input": "2025-08-09T21:23:17.409308Z",
     "iopub.status.busy": "2025-08-09T21:23:17.408926Z",
     "iopub.status.idle": "2025-08-09T21:23:17.418409Z",
     "shell.execute_reply": "2025-08-09T21:23:17.417478Z"
    },
    "papermill": {
     "duration": 0.01806,
     "end_time": "2025-08-09T21:23:17.420182",
     "exception": false,
     "start_time": "2025-08-09T21:23:17.402122",
     "status": "completed"
    },
    "tags": []
   },
   "outputs": [
    {
     "data": {
      "text/plain": [
       "0    donald trump wish american happy new year leav...\n",
       "1    house intelligence committee chairman devin nu...\n",
       "2    friday revealed former milwaukee sheriff david...\n",
       "3    christmas day donald trump announced would bac...\n",
       "4    pope francis used annual christmas day message...\n",
       "Name: text, dtype: object"
      ]
     },
     "execution_count": 13,
     "metadata": {},
     "output_type": "execute_result"
    }
   ],
   "source": [
    "df[\"text\"].head()\n"
   ]
  }
 ],
 "metadata": {
  "kaggle": {
   "accelerator": "none",
   "dataSources": [
    {
     "datasetId": 4831777,
     "sourceId": 8165591,
     "sourceType": "datasetVersion"
    }
   ],
   "dockerImageVersionId": 31089,
   "isGpuEnabled": false,
   "isInternetEnabled": true,
   "language": "python",
   "sourceType": "notebook"
  },
  "kernelspec": {
   "display_name": "Python 3",
   "language": "python",
   "name": "python3"
  },
  "language_info": {
   "codemirror_mode": {
    "name": "ipython",
    "version": 3
   },
   "file_extension": ".py",
   "mimetype": "text/x-python",
   "name": "python",
   "nbconvert_exporter": "python",
   "pygments_lexer": "ipython3",
   "version": "3.11.13"
  },
  "papermill": {
   "default_parameters": {},
   "duration": 77.137876,
   "end_time": "2025-08-09T21:23:19.051288",
   "environment_variables": {},
   "exception": null,
   "input_path": "__notebook__.ipynb",
   "output_path": "__notebook__.ipynb",
   "parameters": {},
   "start_time": "2025-08-09T21:22:01.913412",
   "version": "2.6.0"
  }
 },
 "nbformat": 4,
 "nbformat_minor": 5
}
